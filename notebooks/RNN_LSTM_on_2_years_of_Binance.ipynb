{
 "cells": [
  {
   "cell_type": "markdown",
   "metadata": {},
   "source": [
    "# RNN LSTM Model trained on 2 years of price history and /r/Binance Posts"
   ]
  },
  {
   "cell_type": "markdown",
   "metadata": {},
   "source": [
    "> In this notebook I will be repeating the modeling process but instead using the Binance subreddit and Binance Coin Price history. Using the Keras library, I'll be combing Dense, Dropout, and LSTM layers to model on top of my price and sentiment data"
   ]
  },
  {
   "cell_type": "markdown",
   "metadata": {},
   "source": [
    "## Imports and data clarity"
   ]
  },
  {
   "cell_type": "code",
   "execution_count": 2,
   "metadata": {},
   "outputs": [
    {
     "name": "stderr",
     "output_type": "stream",
     "text": [
      "Using TensorFlow backend.\n"
     ]
    }
   ],
   "source": [
    "import pandas as pd\n",
    "import numpy as np\n",
    "\n",
    "from sklearn.preprocessing import StandardScaler\n",
    "from sklearn.model_selection import train_test_split\n",
    "from sklearn.metrics import accuracy_score\n",
    "\n",
    "from keras.models import Sequential\n",
    "from keras.layers import Dense, Dropout, LSTM\n",
    "from keras.optimizers import Adam\n",
    "from keras.preprocessing.sequence import TimeseriesGenerator\n",
    "\n",
    "import matplotlib.pyplot as plt\n",
    "%matplotlib inline\n",
    "\n",
    "np.random.seed(222) #The random seed I chose was basically button mash - it has no broader meaning."
   ]
  },
  {
   "cell_type": "code",
   "execution_count": 3,
   "metadata": {},
   "outputs": [],
   "source": [
    "df = pd.read_csv('/Users/zoenawar/DSI/RNN_LSTM_Cryptocurrency_Project/datasets/binance_modeling_dataset.csv')"
   ]
  },
  {
   "cell_type": "code",
   "execution_count": 4,
   "metadata": {},
   "outputs": [
    {
     "data": {
      "text/html": [
       "<div>\n",
       "<style scoped>\n",
       "    .dataframe tbody tr th:only-of-type {\n",
       "        vertical-align: middle;\n",
       "    }\n",
       "\n",
       "    .dataframe tbody tr th {\n",
       "        vertical-align: top;\n",
       "    }\n",
       "\n",
       "    .dataframe thead th {\n",
       "        text-align: right;\n",
       "    }\n",
       "</style>\n",
       "<table border=\"1\" class=\"dataframe\">\n",
       "  <thead>\n",
       "    <tr style=\"text-align: right;\">\n",
       "      <th></th>\n",
       "      <th>Date</th>\n",
       "      <th>Open</th>\n",
       "      <th>High</th>\n",
       "      <th>Low</th>\n",
       "      <th>Close</th>\n",
       "      <th>Target</th>\n",
       "      <th>compound</th>\n",
       "      <th>neg</th>\n",
       "      <th>neu</th>\n",
       "      <th>pos</th>\n",
       "    </tr>\n",
       "  </thead>\n",
       "  <tbody>\n",
       "    <tr>\n",
       "      <th>0</th>\n",
       "      <td>2017-07-26</td>\n",
       "      <td>-0.080814</td>\n",
       "      <td>-0.058943</td>\n",
       "      <td>-0.022308</td>\n",
       "      <td>-0.006914</td>\n",
       "      <td>1</td>\n",
       "      <td>0.2202</td>\n",
       "      <td>0.0</td>\n",
       "      <td>0.9635</td>\n",
       "      <td>0.0365</td>\n",
       "    </tr>\n",
       "    <tr>\n",
       "      <th>1</th>\n",
       "      <td>2017-07-27</td>\n",
       "      <td>-0.007413</td>\n",
       "      <td>-0.004898</td>\n",
       "      <td>0.016340</td>\n",
       "      <td>0.024720</td>\n",
       "      <td>2</td>\n",
       "      <td>0.0000</td>\n",
       "      <td>0.0</td>\n",
       "      <td>1.0000</td>\n",
       "      <td>0.0000</td>\n",
       "    </tr>\n",
       "    <tr>\n",
       "      <th>2</th>\n",
       "      <td>2017-07-28</td>\n",
       "      <td>0.024013</td>\n",
       "      <td>0.004978</td>\n",
       "      <td>0.005799</td>\n",
       "      <td>-0.034064</td>\n",
       "      <td>0</td>\n",
       "      <td>0.2732</td>\n",
       "      <td>0.0</td>\n",
       "      <td>0.9050</td>\n",
       "      <td>0.0950</td>\n",
       "    </tr>\n",
       "    <tr>\n",
       "      <th>3</th>\n",
       "      <td>2017-07-29</td>\n",
       "      <td>-0.026479</td>\n",
       "      <td>0.020593</td>\n",
       "      <td>-0.003597</td>\n",
       "      <td>0.035977</td>\n",
       "      <td>2</td>\n",
       "      <td>NaN</td>\n",
       "      <td>NaN</td>\n",
       "      <td>NaN</td>\n",
       "      <td>NaN</td>\n",
       "    </tr>\n",
       "    <tr>\n",
       "      <th>4</th>\n",
       "      <td>2017-07-30</td>\n",
       "      <td>0.030091</td>\n",
       "      <td>-0.028095</td>\n",
       "      <td>0.020315</td>\n",
       "      <td>-0.012958</td>\n",
       "      <td>0</td>\n",
       "      <td>0.7264</td>\n",
       "      <td>0.0</td>\n",
       "      <td>0.8210</td>\n",
       "      <td>0.1790</td>\n",
       "    </tr>\n",
       "  </tbody>\n",
       "</table>\n",
       "</div>"
      ],
      "text/plain": [
       "         Date      Open      High       Low     Close  Target  compound  neg  \\\n",
       "0  2017-07-26 -0.080814 -0.058943 -0.022308 -0.006914       1    0.2202  0.0   \n",
       "1  2017-07-27 -0.007413 -0.004898  0.016340  0.024720       2    0.0000  0.0   \n",
       "2  2017-07-28  0.024013  0.004978  0.005799 -0.034064       0    0.2732  0.0   \n",
       "3  2017-07-29 -0.026479  0.020593 -0.003597  0.035977       2       NaN  NaN   \n",
       "4  2017-07-30  0.030091 -0.028095  0.020315 -0.012958       0    0.7264  0.0   \n",
       "\n",
       "      neu     pos  \n",
       "0  0.9635  0.0365  \n",
       "1  1.0000  0.0000  \n",
       "2  0.9050  0.0950  \n",
       "3     NaN     NaN  \n",
       "4  0.8210  0.1790  "
      ]
     },
     "execution_count": 4,
     "metadata": {},
     "output_type": "execute_result"
    }
   ],
   "source": [
    "df.head()"
   ]
  },
  {
   "cell_type": "code",
   "execution_count": 5,
   "metadata": {},
   "outputs": [
    {
     "data": {
      "text/html": [
       "<div>\n",
       "<style scoped>\n",
       "    .dataframe tbody tr th:only-of-type {\n",
       "        vertical-align: middle;\n",
       "    }\n",
       "\n",
       "    .dataframe tbody tr th {\n",
       "        vertical-align: top;\n",
       "    }\n",
       "\n",
       "    .dataframe thead th {\n",
       "        text-align: right;\n",
       "    }\n",
       "</style>\n",
       "<table border=\"1\" class=\"dataframe\">\n",
       "  <thead>\n",
       "    <tr style=\"text-align: right;\">\n",
       "      <th></th>\n",
       "      <th>Date</th>\n",
       "      <th>Open</th>\n",
       "      <th>High</th>\n",
       "      <th>Low</th>\n",
       "      <th>Close</th>\n",
       "      <th>Target</th>\n",
       "      <th>compound</th>\n",
       "      <th>neg</th>\n",
       "      <th>neu</th>\n",
       "      <th>pos</th>\n",
       "    </tr>\n",
       "  </thead>\n",
       "  <tbody>\n",
       "    <tr>\n",
       "      <th>653</th>\n",
       "      <td>2019-05-10</td>\n",
       "      <td>-0.093976</td>\n",
       "      <td>-0.042125</td>\n",
       "      <td>-0.010182</td>\n",
       "      <td>0.040892</td>\n",
       "      <td>2</td>\n",
       "      <td>0.243868</td>\n",
       "      <td>0.023105</td>\n",
       "      <td>0.870421</td>\n",
       "      <td>0.106579</td>\n",
       "    </tr>\n",
       "    <tr>\n",
       "      <th>654</th>\n",
       "      <td>2019-05-11</td>\n",
       "      <td>0.042553</td>\n",
       "      <td>0.096452</td>\n",
       "      <td>0.033027</td>\n",
       "      <td>0.073980</td>\n",
       "      <td>2</td>\n",
       "      <td>0.044443</td>\n",
       "      <td>0.035619</td>\n",
       "      <td>0.889905</td>\n",
       "      <td>0.074476</td>\n",
       "    </tr>\n",
       "    <tr>\n",
       "      <th>655</th>\n",
       "      <td>2019-05-12</td>\n",
       "      <td>0.075510</td>\n",
       "      <td>-0.021422</td>\n",
       "      <td>0.065514</td>\n",
       "      <td>-0.010451</td>\n",
       "      <td>0</td>\n",
       "      <td>0.066800</td>\n",
       "      <td>0.045810</td>\n",
       "      <td>0.886143</td>\n",
       "      <td>0.068048</td>\n",
       "    </tr>\n",
       "    <tr>\n",
       "      <th>656</th>\n",
       "      <td>2019-05-13</td>\n",
       "      <td>-0.011860</td>\n",
       "      <td>0.142524</td>\n",
       "      <td>0.020659</td>\n",
       "      <td>0.143063</td>\n",
       "      <td>2</td>\n",
       "      <td>0.187018</td>\n",
       "      <td>0.030359</td>\n",
       "      <td>0.861000</td>\n",
       "      <td>0.108590</td>\n",
       "    </tr>\n",
       "    <tr>\n",
       "      <th>657</th>\n",
       "      <td>2019-05-14</td>\n",
       "      <td>0.146904</td>\n",
       "      <td>-0.002038</td>\n",
       "      <td>0.105542</td>\n",
       "      <td>-0.007560</td>\n",
       "      <td>1</td>\n",
       "      <td>-0.032452</td>\n",
       "      <td>0.053212</td>\n",
       "      <td>0.909909</td>\n",
       "      <td>0.036879</td>\n",
       "    </tr>\n",
       "  </tbody>\n",
       "</table>\n",
       "</div>"
      ],
      "text/plain": [
       "           Date      Open      High       Low     Close  Target  compound  \\\n",
       "653  2019-05-10 -0.093976 -0.042125 -0.010182  0.040892       2  0.243868   \n",
       "654  2019-05-11  0.042553  0.096452  0.033027  0.073980       2  0.044443   \n",
       "655  2019-05-12  0.075510 -0.021422  0.065514 -0.010451       0  0.066800   \n",
       "656  2019-05-13 -0.011860  0.142524  0.020659  0.143063       2  0.187018   \n",
       "657  2019-05-14  0.146904 -0.002038  0.105542 -0.007560       1 -0.032452   \n",
       "\n",
       "          neg       neu       pos  \n",
       "653  0.023105  0.870421  0.106579  \n",
       "654  0.035619  0.889905  0.074476  \n",
       "655  0.045810  0.886143  0.068048  \n",
       "656  0.030359  0.861000  0.108590  \n",
       "657  0.053212  0.909909  0.036879  "
      ]
     },
     "execution_count": 5,
     "metadata": {},
     "output_type": "execute_result"
    }
   ],
   "source": [
    "df.tail()"
   ]
  },
  {
   "cell_type": "code",
   "execution_count": 6,
   "metadata": {},
   "outputs": [
    {
     "data": {
      "text/plain": [
       "(658, 10)"
      ]
     },
     "execution_count": 6,
     "metadata": {},
     "output_type": "execute_result"
    }
   ],
   "source": [
    "df.shape"
   ]
  },
  {
   "cell_type": "code",
   "execution_count": 7,
   "metadata": {},
   "outputs": [
    {
     "data": {
      "text/plain": [
       "Date         object\n",
       "Open        float64\n",
       "High        float64\n",
       "Low         float64\n",
       "Close       float64\n",
       "Target        int64\n",
       "compound    float64\n",
       "neg         float64\n",
       "neu         float64\n",
       "pos         float64\n",
       "dtype: object"
      ]
     },
     "execution_count": 7,
     "metadata": {},
     "output_type": "execute_result"
    }
   ],
   "source": [
    "df.dtypes"
   ]
  },
  {
   "cell_type": "code",
   "execution_count": 8,
   "metadata": {},
   "outputs": [],
   "source": [
    "df.set_index('Date', inplace=True) #Making sure the index is datetime.\n"
   ]
  },
  {
   "cell_type": "markdown",
   "metadata": {},
   "source": [
    "# Model Preperation\n",
    "> In the following lines, I will be organizing, scaling, and splitting the data to prepare it for the model."
   ]
  },
  {
   "cell_type": "code",
   "execution_count": 9,
   "metadata": {},
   "outputs": [],
   "source": [
    "# Setting my x and y to all the non-target features and target respectively \n",
    "features = [col for col in df.columns if not col == 'Target']\n",
    "X = df[features]\n",
    "y = df[['Target']].values"
   ]
  },
  {
   "cell_type": "code",
   "execution_count": 10,
   "metadata": {},
   "outputs": [
    {
     "data": {
      "text/html": [
       "<div>\n",
       "<style scoped>\n",
       "    .dataframe tbody tr th:only-of-type {\n",
       "        vertical-align: middle;\n",
       "    }\n",
       "\n",
       "    .dataframe tbody tr th {\n",
       "        vertical-align: top;\n",
       "    }\n",
       "\n",
       "    .dataframe thead th {\n",
       "        text-align: right;\n",
       "    }\n",
       "</style>\n",
       "<table border=\"1\" class=\"dataframe\">\n",
       "  <thead>\n",
       "    <tr style=\"text-align: right;\">\n",
       "      <th></th>\n",
       "      <th>Open</th>\n",
       "      <th>High</th>\n",
       "      <th>Low</th>\n",
       "      <th>Close</th>\n",
       "      <th>compound</th>\n",
       "      <th>neg</th>\n",
       "      <th>neu</th>\n",
       "      <th>pos</th>\n",
       "    </tr>\n",
       "    <tr>\n",
       "      <th>Date</th>\n",
       "      <th></th>\n",
       "      <th></th>\n",
       "      <th></th>\n",
       "      <th></th>\n",
       "      <th></th>\n",
       "      <th></th>\n",
       "      <th></th>\n",
       "      <th></th>\n",
       "    </tr>\n",
       "  </thead>\n",
       "  <tbody>\n",
       "    <tr>\n",
       "      <th>2017-07-26</th>\n",
       "      <td>-0.080814</td>\n",
       "      <td>-0.058943</td>\n",
       "      <td>-0.022308</td>\n",
       "      <td>-0.006914</td>\n",
       "      <td>0.2202</td>\n",
       "      <td>0.0</td>\n",
       "      <td>0.9635</td>\n",
       "      <td>0.0365</td>\n",
       "    </tr>\n",
       "    <tr>\n",
       "      <th>2017-07-27</th>\n",
       "      <td>-0.007413</td>\n",
       "      <td>-0.004898</td>\n",
       "      <td>0.016340</td>\n",
       "      <td>0.024720</td>\n",
       "      <td>0.0000</td>\n",
       "      <td>0.0</td>\n",
       "      <td>1.0000</td>\n",
       "      <td>0.0000</td>\n",
       "    </tr>\n",
       "    <tr>\n",
       "      <th>2017-07-28</th>\n",
       "      <td>0.024013</td>\n",
       "      <td>0.004978</td>\n",
       "      <td>0.005799</td>\n",
       "      <td>-0.034064</td>\n",
       "      <td>0.2732</td>\n",
       "      <td>0.0</td>\n",
       "      <td>0.9050</td>\n",
       "      <td>0.0950</td>\n",
       "    </tr>\n",
       "    <tr>\n",
       "      <th>2017-07-29</th>\n",
       "      <td>-0.026479</td>\n",
       "      <td>0.020593</td>\n",
       "      <td>-0.003597</td>\n",
       "      <td>0.035977</td>\n",
       "      <td>NaN</td>\n",
       "      <td>NaN</td>\n",
       "      <td>NaN</td>\n",
       "      <td>NaN</td>\n",
       "    </tr>\n",
       "    <tr>\n",
       "      <th>2017-07-30</th>\n",
       "      <td>0.030091</td>\n",
       "      <td>-0.028095</td>\n",
       "      <td>0.020315</td>\n",
       "      <td>-0.012958</td>\n",
       "      <td>0.7264</td>\n",
       "      <td>0.0</td>\n",
       "      <td>0.8210</td>\n",
       "      <td>0.1790</td>\n",
       "    </tr>\n",
       "  </tbody>\n",
       "</table>\n",
       "</div>"
      ],
      "text/plain": [
       "                Open      High       Low     Close  compound  neg     neu  \\\n",
       "Date                                                                        \n",
       "2017-07-26 -0.080814 -0.058943 -0.022308 -0.006914    0.2202  0.0  0.9635   \n",
       "2017-07-27 -0.007413 -0.004898  0.016340  0.024720    0.0000  0.0  1.0000   \n",
       "2017-07-28  0.024013  0.004978  0.005799 -0.034064    0.2732  0.0  0.9050   \n",
       "2017-07-29 -0.026479  0.020593 -0.003597  0.035977       NaN  NaN     NaN   \n",
       "2017-07-30  0.030091 -0.028095  0.020315 -0.012958    0.7264  0.0  0.8210   \n",
       "\n",
       "               pos  \n",
       "Date                \n",
       "2017-07-26  0.0365  \n",
       "2017-07-27  0.0000  \n",
       "2017-07-28  0.0950  \n",
       "2017-07-29     NaN  \n",
       "2017-07-30  0.1790  "
      ]
     },
     "execution_count": 10,
     "metadata": {},
     "output_type": "execute_result"
    }
   ],
   "source": [
    "X_train, X_test, y_train, y_test = train_test_split(X, y, shuffle=False)  # Train test splitting\n",
    "X_train.head()"
   ]
  },
  {
   "cell_type": "code",
   "execution_count": 11,
   "metadata": {},
   "outputs": [],
   "source": [
    "# Our data works on multiple scales, so it's neccessary to scale it before feeding it into the model\n",
    "ss = StandardScaler()\n",
    "X_train_sc = ss.fit_transform(np.nan_to_num(X_train))\n",
    "X_test_sc = ss.transform(np.nan_to_num(X_test))"
   ]
  },
  {
   "cell_type": "code",
   "execution_count": 12,
   "metadata": {},
   "outputs": [],
   "source": [
    "#generation of training sequences\n",
    "train_sequences = TimeseriesGenerator(X_train_sc, y_train, length=3, batch_size=64)"
   ]
  },
  {
   "cell_type": "code",
   "execution_count": 13,
   "metadata": {},
   "outputs": [],
   "source": [
    "batch_x, batch_y = train_sequences[0]"
   ]
  },
  {
   "cell_type": "code",
   "execution_count": 14,
   "metadata": {},
   "outputs": [
    {
     "data": {
      "text/plain": [
       "(64, 3, 8)"
      ]
     },
     "execution_count": 14,
     "metadata": {},
     "output_type": "execute_result"
    }
   ],
   "source": [
    "batch_x.shape"
   ]
  },
  {
   "cell_type": "code",
   "execution_count": 15,
   "metadata": {},
   "outputs": [
    {
     "data": {
      "text/plain": [
       "(64, 1)"
      ]
     },
     "execution_count": 15,
     "metadata": {},
     "output_type": "execute_result"
    }
   ],
   "source": [
    "batch_y.shape"
   ]
  },
  {
   "cell_type": "code",
   "execution_count": 16,
   "metadata": {},
   "outputs": [
    {
     "data": {
      "text/html": [
       "<div>\n",
       "<style scoped>\n",
       "    .dataframe tbody tr th:only-of-type {\n",
       "        vertical-align: middle;\n",
       "    }\n",
       "\n",
       "    .dataframe tbody tr th {\n",
       "        vertical-align: top;\n",
       "    }\n",
       "\n",
       "    .dataframe thead th {\n",
       "        text-align: right;\n",
       "    }\n",
       "</style>\n",
       "<table border=\"1\" class=\"dataframe\">\n",
       "  <thead>\n",
       "    <tr style=\"text-align: right;\">\n",
       "      <th></th>\n",
       "      <th>Open</th>\n",
       "      <th>High</th>\n",
       "      <th>Low</th>\n",
       "      <th>Close</th>\n",
       "      <th>compound</th>\n",
       "      <th>neg</th>\n",
       "      <th>neu</th>\n",
       "      <th>pos</th>\n",
       "    </tr>\n",
       "  </thead>\n",
       "  <tbody>\n",
       "    <tr>\n",
       "      <th>0</th>\n",
       "      <td>-0.867784</td>\n",
       "      <td>-0.647655</td>\n",
       "      <td>-0.344527</td>\n",
       "      <td>-0.184693</td>\n",
       "      <td>1.079492</td>\n",
       "      <td>-1.429502</td>\n",
       "      <td>0.726661</td>\n",
       "      <td>-0.894413</td>\n",
       "    </tr>\n",
       "    <tr>\n",
       "      <th>1</th>\n",
       "      <td>-0.188246</td>\n",
       "      <td>-0.160198</td>\n",
       "      <td>0.032390</td>\n",
       "      <td>0.110111</td>\n",
       "      <td>-0.917340</td>\n",
       "      <td>-1.429502</td>\n",
       "      <td>0.857583</td>\n",
       "      <td>-1.647705</td>\n",
       "    </tr>\n",
       "    <tr>\n",
       "      <th>2</th>\n",
       "      <td>0.102698</td>\n",
       "      <td>-0.071117</td>\n",
       "      <td>-0.070415</td>\n",
       "      <td>-0.437712</td>\n",
       "      <td>1.560111</td>\n",
       "      <td>-1.429502</td>\n",
       "      <td>0.516827</td>\n",
       "      <td>0.312918</td>\n",
       "    </tr>\n",
       "  </tbody>\n",
       "</table>\n",
       "</div>"
      ],
      "text/plain": [
       "       Open      High       Low     Close  compound       neg       neu  \\\n",
       "0 -0.867784 -0.647655 -0.344527 -0.184693  1.079492 -1.429502  0.726661   \n",
       "1 -0.188246 -0.160198  0.032390  0.110111 -0.917340 -1.429502  0.857583   \n",
       "2  0.102698 -0.071117 -0.070415 -0.437712  1.560111 -1.429502  0.516827   \n",
       "\n",
       "        pos  \n",
       "0 -0.894413  \n",
       "1 -1.647705  \n",
       "2  0.312918  "
      ]
     },
     "execution_count": 16,
     "metadata": {},
     "output_type": "execute_result"
    }
   ],
   "source": [
    "pd.DataFrame(X_train_sc, columns=X_train.columns).head(3)"
   ]
  },
  {
   "cell_type": "code",
   "execution_count": 17,
   "metadata": {},
   "outputs": [],
   "source": [
    "#generation of test sequences\n",
    "test_sequences = TimeseriesGenerator(X_test_sc, y_test, length=3, batch_size=64)"
   ]
  },
  {
   "cell_type": "markdown",
   "metadata": {},
   "source": [
    "# Model building and compiling\n",
    "\n",
    "> In the following lines I set out the many layers in my model, using LSTM, dropout, and Dense layers to train my model. Then I compile the model and record the history for analysis."
   ]
  },
  {
   "cell_type": "code",
   "execution_count": 18,
   "metadata": {},
   "outputs": [
    {
     "name": "stdout",
     "output_type": "stream",
     "text": [
      "WARNING:tensorflow:From /anaconda3/lib/python3.7/site-packages/tensorflow/python/framework/op_def_library.py:263: colocate_with (from tensorflow.python.framework.ops) is deprecated and will be removed in a future version.\n",
      "Instructions for updating:\n",
      "Colocations handled automatically by placer.\n",
      "WARNING:tensorflow:From /anaconda3/lib/python3.7/site-packages/keras/backend/tensorflow_backend.py:3445: calling dropout (from tensorflow.python.ops.nn_ops) with keep_prob is deprecated and will be removed in a future version.\n",
      "Instructions for updating:\n",
      "Please use `rate` instead of `keep_prob`. Rate should be set to `rate = 1 - keep_prob`.\n"
     ]
    }
   ],
   "source": [
    "model = Sequential()\n",
    "model.add(LSTM(8, input_shape=(3, 8), return_sequences=True))\n",
    "\n",
    "model.add(LSTM(8))\n",
    "\n",
    "model.add(Dense(6, activation='relu'))\n",
    "\n",
    "model.add(Dropout(0.2))\n",
    "\n",
    "model.add(Dense(4, activation='relu'))\n",
    "\n",
    "model.add(Dropout(0.2))\n",
    "\n",
    "\n",
    "model.add(Dense(3, activation='softmax'))"
   ]
  },
  {
   "cell_type": "code",
   "execution_count": 19,
   "metadata": {},
   "outputs": [
    {
     "name": "stdout",
     "output_type": "stream",
     "text": [
      "WARNING:tensorflow:From /anaconda3/lib/python3.7/site-packages/tensorflow/python/ops/math_ops.py:3066: to_int32 (from tensorflow.python.ops.math_ops) is deprecated and will be removed in a future version.\n",
      "Instructions for updating:\n",
      "Use tf.cast instead.\n"
     ]
    }
   ],
   "source": [
    "model.compile(optimizer=Adam(lr=.0007), loss='sparse_categorical_crossentropy', metrics=['acc'])\n",
    "\n",
    "history = model.fit_generator(train_sequences, validation_data=test_sequences, epochs=100, verbose=0)"
   ]
  },
  {
   "cell_type": "markdown",
   "metadata": {},
   "source": [
    "# Checking out the model\n",
    "\n",
    "> In the following section I take a look at the Loss scores and Accuracy of the model as it trains"
   ]
  },
  {
   "cell_type": "code",
   "execution_count": 20,
   "metadata": {},
   "outputs": [],
   "source": [
    "# history.history['loss']"
   ]
  },
  {
   "cell_type": "code",
   "execution_count": 21,
   "metadata": {},
   "outputs": [
    {
     "data": {
      "image/png": "[encoded data removed]",
      "text/plain": [
       "<Figure size 432x288 with 1 Axes>"
      ]
     },
     "metadata": {
      "needs_background": "light"
     },
     "output_type": "display_data"
    }
   ],
   "source": [
    "plt.plot(history.history['loss'], label='Train loss')\n",
    "plt.plot(history.history['val_loss'], label='Test loss')\n",
    "plt.legend();"
   ]
  },
  {
   "cell_type": "code",
   "execution_count": 22,
   "metadata": {},
   "outputs": [
    {
     "data": {
      "image/png": "[encoded data removed]",
      "text/plain": [
       "<Figure size 432x288 with 1 Axes>"
      ]
     },
     "metadata": {
      "needs_background": "light"
     },
     "output_type": "display_data"
    }
   ],
   "source": [
    "plt.plot(history.history['acc'], label='Train accuracy')\n",
    "plt.plot(history.history['val_acc'], label='Test accuracy')\n",
    "plt.legend();"
   ]
  },
  {
   "cell_type": "code",
   "execution_count": 23,
   "metadata": {},
   "outputs": [
    {
     "data": {
      "text/plain": [
       "2    0.419453\n",
       "0    0.390578\n",
       "1    0.189970\n",
       "Name: Target, dtype: float64"
      ]
     },
     "execution_count": 23,
     "metadata": {},
     "output_type": "execute_result"
    }
   ],
   "source": [
    "df.Target.value_counts(normalize=True) # The baseline is .41 as that's the dominant class"
   ]
  },
  {
   "cell_type": "markdown",
   "metadata": {},
   "source": [
    "# Conclusions\n",
    "\n",
    "This model doesn't perform quite as well as my bitcoin model, but I think that has a lot to do with the lack of data. Everything I mentioned in the Bitcoin RNN LSTM notebook holds true here for the most part."
   ]
  }
 ],
 "metadata": {
  "kernelspec": {
   "display_name": "Python 3",
   "language": "python",
   "name": "python3"
  },
  "language_info": {
   "codemirror_mode": {
    "name": "ipython",
    "version": 3
   },
   "file_extension": ".py",
   "mimetype": "text/x-python",
   "name": "python",
   "nbconvert_exporter": "python",
   "pygments_lexer": "ipython3",
   "version": "3.7.1"
  }
 },
 "nbformat": 4,
 "nbformat_minor": 2
}
