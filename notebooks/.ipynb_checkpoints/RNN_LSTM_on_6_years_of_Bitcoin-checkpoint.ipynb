{
 "cells": [
  {
   "cell_type": "markdown",
   "metadata": {},
   "source": [
    "# RNN LSTM Model trained on 6 years of price history and /r/Bitcoin Posts"
   ]
  },
  {
   "cell_type": "markdown",
   "metadata": {},
   "source": [
    "> In this notebook I will be doing the final step of my project: modeling. Using the Keras library, I'll be combing Dense, Dropout, and LSTM layers to model on top of my price and sentiment data"
   ]
  },
  {
   "cell_type": "markdown",
   "metadata": {},
   "source": [
    "---"
   ]
  },
  {
   "cell_type": "markdown",
   "metadata": {},
   "source": [
    "# Imports and data clarity"
   ]
  },
  {
   "cell_type": "code",
   "execution_count": 4,
   "metadata": {},
   "outputs": [],
   "source": [
    "import pandas as pd\n",
    "import numpy as np\n",
    "\n",
    "from sklearn.preprocessing import StandardScaler\n",
    "from sklearn.model_selection import train_test_split\n",
    "from sklearn.metrics import accuracy_score\n",
    "\n",
    "from keras.models import Sequential\n",
    "from keras.layers import Dense, Dropout, LSTM\n",
    "from keras.optimizers import Adam\n",
    "from keras.preprocessing.sequence import TimeseriesGenerator\n",
    "\n",
    "import matplotlib.pyplot as plt\n",
    "%matplotlib inline\n",
    "\n",
    "np.random.seed(4234) #The random seed I chose was basically button mash - it has no broader meaning."
   ]
  },
  {
   "cell_type": "code",
   "execution_count": 5,
   "metadata": {},
   "outputs": [],
   "source": [
    "# data originally contained one line of description text. I've removed that for ease of use.\n",
    "df = pd.read_csv('/Users/zoenawar/DSI/RNN_LSTM_Cryptocurrency_Project/datasets/bitcoin_modeling_dataset.csv')"
   ]
  },
  {
   "cell_type": "markdown",
   "metadata": {},
   "source": [
    "### A brief look at the data to make sure everything is in place."
   ]
  },
  {
   "cell_type": "code",
   "execution_count": 6,
   "metadata": {},
   "outputs": [
    {
     "data": {
      "text/html": [
       "<div>\n",
       "<style scoped>\n",
       "    .dataframe tbody tr th:only-of-type {\n",
       "        vertical-align: middle;\n",
       "    }\n",
       "\n",
       "    .dataframe tbody tr th {\n",
       "        vertical-align: top;\n",
       "    }\n",
       "\n",
       "    .dataframe thead th {\n",
       "        text-align: right;\n",
       "    }\n",
       "</style>\n",
       "<table border=\"1\" class=\"dataframe\">\n",
       "  <thead>\n",
       "    <tr style=\"text-align: right;\">\n",
       "      <th></th>\n",
       "      <th>Date</th>\n",
       "      <th>Open</th>\n",
       "      <th>High</th>\n",
       "      <th>Low</th>\n",
       "      <th>Close</th>\n",
       "      <th>Target</th>\n",
       "      <th>compound</th>\n",
       "      <th>neg</th>\n",
       "      <th>neu</th>\n",
       "      <th>pos</th>\n",
       "    </tr>\n",
       "  </thead>\n",
       "  <tbody>\n",
       "    <tr>\n",
       "      <th>0</th>\n",
       "      <td>2013-10-12</td>\n",
       "      <td>0.000000</td>\n",
       "      <td>0.013030</td>\n",
       "      <td>0.000000</td>\n",
       "      <td>0.009058</td>\n",
       "      <td>1</td>\n",
       "      <td>0.277209</td>\n",
       "      <td>0.035028</td>\n",
       "      <td>0.860241</td>\n",
       "      <td>0.104769</td>\n",
       "    </tr>\n",
       "    <tr>\n",
       "      <th>1</th>\n",
       "      <td>2013-10-13</td>\n",
       "      <td>0.009058</td>\n",
       "      <td>0.034039</td>\n",
       "      <td>0.009058</td>\n",
       "      <td>0.038110</td>\n",
       "      <td>2</td>\n",
       "      <td>0.236865</td>\n",
       "      <td>0.041686</td>\n",
       "      <td>0.833769</td>\n",
       "      <td>0.124545</td>\n",
       "    </tr>\n",
       "    <tr>\n",
       "      <th>2</th>\n",
       "      <td>2013-10-14</td>\n",
       "      <td>0.038110</td>\n",
       "      <td>0.028444</td>\n",
       "      <td>0.038110</td>\n",
       "      <td>0.028444</td>\n",
       "      <td>2</td>\n",
       "      <td>0.224255</td>\n",
       "      <td>0.040007</td>\n",
       "      <td>0.804474</td>\n",
       "      <td>0.155482</td>\n",
       "    </tr>\n",
       "    <tr>\n",
       "      <th>3</th>\n",
       "      <td>2013-10-15</td>\n",
       "      <td>0.028444</td>\n",
       "      <td>0.128402</td>\n",
       "      <td>0.015473</td>\n",
       "      <td>-0.012612</td>\n",
       "      <td>0</td>\n",
       "      <td>0.424886</td>\n",
       "      <td>0.056941</td>\n",
       "      <td>0.735112</td>\n",
       "      <td>0.207753</td>\n",
       "    </tr>\n",
       "    <tr>\n",
       "      <th>4</th>\n",
       "      <td>2013-10-16</td>\n",
       "      <td>-0.012612</td>\n",
       "      <td>-0.044837</td>\n",
       "      <td>0.000000</td>\n",
       "      <td>0.028085</td>\n",
       "      <td>2</td>\n",
       "      <td>0.296233</td>\n",
       "      <td>0.054215</td>\n",
       "      <td>0.802395</td>\n",
       "      <td>0.143270</td>\n",
       "    </tr>\n",
       "  </tbody>\n",
       "</table>\n",
       "</div>"
      ],
      "text/plain": [
       "         Date      Open      High       Low     Close  Target  compound  \\\n",
       "0  2013-10-12  0.000000  0.013030  0.000000  0.009058       1  0.277209   \n",
       "1  2013-10-13  0.009058  0.034039  0.009058  0.038110       2  0.236865   \n",
       "2  2013-10-14  0.038110  0.028444  0.038110  0.028444       2  0.224255   \n",
       "3  2013-10-15  0.028444  0.128402  0.015473 -0.012612       0  0.424886   \n",
       "4  2013-10-16 -0.012612 -0.044837  0.000000  0.028085       2  0.296233   \n",
       "\n",
       "        neg       neu       pos  \n",
       "0  0.035028  0.860241  0.104769  \n",
       "1  0.041686  0.833769  0.124545  \n",
       "2  0.040007  0.804474  0.155482  \n",
       "3  0.056941  0.735112  0.207753  \n",
       "4  0.054215  0.802395  0.143270  "
      ]
     },
     "execution_count": 6,
     "metadata": {},
     "output_type": "execute_result"
    }
   ],
   "source": [
    "df.head() "
   ]
  },
  {
   "cell_type": "code",
   "execution_count": 7,
   "metadata": {},
   "outputs": [
    {
     "data": {
      "text/html": [
       "<div>\n",
       "<style scoped>\n",
       "    .dataframe tbody tr th:only-of-type {\n",
       "        vertical-align: middle;\n",
       "    }\n",
       "\n",
       "    .dataframe tbody tr th {\n",
       "        vertical-align: top;\n",
       "    }\n",
       "\n",
       "    .dataframe thead th {\n",
       "        text-align: right;\n",
       "    }\n",
       "</style>\n",
       "<table border=\"1\" class=\"dataframe\">\n",
       "  <thead>\n",
       "    <tr style=\"text-align: right;\">\n",
       "      <th></th>\n",
       "      <th>Date</th>\n",
       "      <th>Open</th>\n",
       "      <th>High</th>\n",
       "      <th>Low</th>\n",
       "      <th>Close</th>\n",
       "      <th>Target</th>\n",
       "      <th>compound</th>\n",
       "      <th>neg</th>\n",
       "      <th>neu</th>\n",
       "      <th>pos</th>\n",
       "    </tr>\n",
       "  </thead>\n",
       "  <tbody>\n",
       "    <tr>\n",
       "      <th>2018</th>\n",
       "      <td>2019-05-04</td>\n",
       "      <td>0.050093</td>\n",
       "      <td>0.007591</td>\n",
       "      <td>0.029113</td>\n",
       "      <td>0.018286</td>\n",
       "      <td>2</td>\n",
       "      <td>0.119783</td>\n",
       "      <td>0.042390</td>\n",
       "      <td>0.866733</td>\n",
       "      <td>0.090913</td>\n",
       "    </tr>\n",
       "    <tr>\n",
       "      <th>2019</th>\n",
       "      <td>2019-05-05</td>\n",
       "      <td>0.018286</td>\n",
       "      <td>-0.010291</td>\n",
       "      <td>0.018570</td>\n",
       "      <td>-0.008085</td>\n",
       "      <td>1</td>\n",
       "      <td>0.162901</td>\n",
       "      <td>0.045594</td>\n",
       "      <td>0.855210</td>\n",
       "      <td>0.099217</td>\n",
       "    </tr>\n",
       "    <tr>\n",
       "      <th>2020</th>\n",
       "      <td>2019-05-06</td>\n",
       "      <td>-0.008085</td>\n",
       "      <td>-0.004827</td>\n",
       "      <td>-0.011408</td>\n",
       "      <td>-0.005160</td>\n",
       "      <td>1</td>\n",
       "      <td>0.197224</td>\n",
       "      <td>0.020690</td>\n",
       "      <td>0.892975</td>\n",
       "      <td>0.086318</td>\n",
       "    </tr>\n",
       "    <tr>\n",
       "      <th>2021</th>\n",
       "      <td>2019-05-07</td>\n",
       "      <td>-0.005160</td>\n",
       "      <td>0.035431</td>\n",
       "      <td>0.022289</td>\n",
       "      <td>0.038559</td>\n",
       "      <td>2</td>\n",
       "      <td>0.075152</td>\n",
       "      <td>0.061358</td>\n",
       "      <td>0.818551</td>\n",
       "      <td>0.120079</td>\n",
       "    </tr>\n",
       "    <tr>\n",
       "      <th>2022</th>\n",
       "      <td>2019-05-08</td>\n",
       "      <td>0.009952</td>\n",
       "      <td>0.004601</td>\n",
       "      <td>-0.004818</td>\n",
       "      <td>0.005570</td>\n",
       "      <td>1</td>\n",
       "      <td>0.022512</td>\n",
       "      <td>0.071135</td>\n",
       "      <td>0.857285</td>\n",
       "      <td>0.067715</td>\n",
       "    </tr>\n",
       "  </tbody>\n",
       "</table>\n",
       "</div>"
      ],
      "text/plain": [
       "            Date      Open      High       Low     Close  Target  compound  \\\n",
       "2018  2019-05-04  0.050093  0.007591  0.029113  0.018286       2  0.119783   \n",
       "2019  2019-05-05  0.018286 -0.010291  0.018570 -0.008085       1  0.162901   \n",
       "2020  2019-05-06 -0.008085 -0.004827 -0.011408 -0.005160       1  0.197224   \n",
       "2021  2019-05-07 -0.005160  0.035431  0.022289  0.038559       2  0.075152   \n",
       "2022  2019-05-08  0.009952  0.004601 -0.004818  0.005570       1  0.022512   \n",
       "\n",
       "           neg       neu       pos  \n",
       "2018  0.042390  0.866733  0.090913  \n",
       "2019  0.045594  0.855210  0.099217  \n",
       "2020  0.020690  0.892975  0.086318  \n",
       "2021  0.061358  0.818551  0.120079  \n",
       "2022  0.071135  0.857285  0.067715  "
      ]
     },
     "execution_count": 7,
     "metadata": {},
     "output_type": "execute_result"
    }
   ],
   "source": [
    "df.tail()"
   ]
  },
  {
   "cell_type": "code",
   "execution_count": 8,
   "metadata": {},
   "outputs": [
    {
     "data": {
      "text/plain": [
       "(2023, 10)"
      ]
     },
     "execution_count": 8,
     "metadata": {},
     "output_type": "execute_result"
    }
   ],
   "source": [
    "df.shape"
   ]
  },
  {
   "cell_type": "code",
   "execution_count": 9,
   "metadata": {},
   "outputs": [
    {
     "data": {
      "text/plain": [
       "Date         object\n",
       "Open        float64\n",
       "High        float64\n",
       "Low         float64\n",
       "Close       float64\n",
       "Target        int64\n",
       "compound    float64\n",
       "neg         float64\n",
       "neu         float64\n",
       "pos         float64\n",
       "dtype: object"
      ]
     },
     "execution_count": 9,
     "metadata": {},
     "output_type": "execute_result"
    }
   ],
   "source": [
    "df.dtypes"
   ]
  },
  {
   "cell_type": "code",
   "execution_count": 10,
   "metadata": {},
   "outputs": [],
   "source": [
    "df.set_index('Date', inplace=True) #Making sure the index is datetime."
   ]
  },
  {
   "cell_type": "markdown",
   "metadata": {},
   "source": [
    "## Model Preperation"
   ]
  },
  {
   "cell_type": "markdown",
   "metadata": {},
   "source": [
    "> In the following lines, I will be organizing, scaling, and splitting the data to prepare it for the model."
   ]
  },
  {
   "cell_type": "code",
   "execution_count": 11,
   "metadata": {},
   "outputs": [],
   "source": [
    "# Setting my x and y to all the non-target features and target respectively \n",
    "features = [col for col in df.columns if not col == 'Target'] \n",
    "X = df[features]\n",
    "y = df[['Target']].values"
   ]
  },
  {
   "cell_type": "code",
   "execution_count": 12,
   "metadata": {},
   "outputs": [
    {
     "data": {
      "text/html": [
       "<div>\n",
       "<style scoped>\n",
       "    .dataframe tbody tr th:only-of-type {\n",
       "        vertical-align: middle;\n",
       "    }\n",
       "\n",
       "    .dataframe tbody tr th {\n",
       "        vertical-align: top;\n",
       "    }\n",
       "\n",
       "    .dataframe thead th {\n",
       "        text-align: right;\n",
       "    }\n",
       "</style>\n",
       "<table border=\"1\" class=\"dataframe\">\n",
       "  <thead>\n",
       "    <tr style=\"text-align: right;\">\n",
       "      <th></th>\n",
       "      <th>Open</th>\n",
       "      <th>High</th>\n",
       "      <th>Low</th>\n",
       "      <th>Close</th>\n",
       "      <th>compound</th>\n",
       "      <th>neg</th>\n",
       "      <th>neu</th>\n",
       "      <th>pos</th>\n",
       "    </tr>\n",
       "    <tr>\n",
       "      <th>Date</th>\n",
       "      <th></th>\n",
       "      <th></th>\n",
       "      <th></th>\n",
       "      <th></th>\n",
       "      <th></th>\n",
       "      <th></th>\n",
       "      <th></th>\n",
       "      <th></th>\n",
       "    </tr>\n",
       "  </thead>\n",
       "  <tbody>\n",
       "    <tr>\n",
       "      <th>2013-10-12</th>\n",
       "      <td>0.000000</td>\n",
       "      <td>0.013030</td>\n",
       "      <td>0.000000</td>\n",
       "      <td>0.009058</td>\n",
       "      <td>0.277209</td>\n",
       "      <td>0.035028</td>\n",
       "      <td>0.860241</td>\n",
       "      <td>0.104769</td>\n",
       "    </tr>\n",
       "    <tr>\n",
       "      <th>2013-10-13</th>\n",
       "      <td>0.009058</td>\n",
       "      <td>0.034039</td>\n",
       "      <td>0.009058</td>\n",
       "      <td>0.038110</td>\n",
       "      <td>0.236865</td>\n",
       "      <td>0.041686</td>\n",
       "      <td>0.833769</td>\n",
       "      <td>0.124545</td>\n",
       "    </tr>\n",
       "    <tr>\n",
       "      <th>2013-10-14</th>\n",
       "      <td>0.038110</td>\n",
       "      <td>0.028444</td>\n",
       "      <td>0.038110</td>\n",
       "      <td>0.028444</td>\n",
       "      <td>0.224255</td>\n",
       "      <td>0.040007</td>\n",
       "      <td>0.804474</td>\n",
       "      <td>0.155482</td>\n",
       "    </tr>\n",
       "    <tr>\n",
       "      <th>2013-10-15</th>\n",
       "      <td>0.028444</td>\n",
       "      <td>0.128402</td>\n",
       "      <td>0.015473</td>\n",
       "      <td>-0.012612</td>\n",
       "      <td>0.424886</td>\n",
       "      <td>0.056941</td>\n",
       "      <td>0.735112</td>\n",
       "      <td>0.207753</td>\n",
       "    </tr>\n",
       "    <tr>\n",
       "      <th>2013-10-16</th>\n",
       "      <td>-0.012612</td>\n",
       "      <td>-0.044837</td>\n",
       "      <td>0.000000</td>\n",
       "      <td>0.028085</td>\n",
       "      <td>0.296233</td>\n",
       "      <td>0.054215</td>\n",
       "      <td>0.802395</td>\n",
       "      <td>0.143270</td>\n",
       "    </tr>\n",
       "  </tbody>\n",
       "</table>\n",
       "</div>"
      ],
      "text/plain": [
       "                Open      High       Low     Close  compound       neg  \\\n",
       "Date                                                                     \n",
       "2013-10-12  0.000000  0.013030  0.000000  0.009058  0.277209  0.035028   \n",
       "2013-10-13  0.009058  0.034039  0.009058  0.038110  0.236865  0.041686   \n",
       "2013-10-14  0.038110  0.028444  0.038110  0.028444  0.224255  0.040007   \n",
       "2013-10-15  0.028444  0.128402  0.015473 -0.012612  0.424886  0.056941   \n",
       "2013-10-16 -0.012612 -0.044837  0.000000  0.028085  0.296233  0.054215   \n",
       "\n",
       "                 neu       pos  \n",
       "Date                            \n",
       "2013-10-12  0.860241  0.104769  \n",
       "2013-10-13  0.833769  0.124545  \n",
       "2013-10-14  0.804474  0.155482  \n",
       "2013-10-15  0.735112  0.207753  \n",
       "2013-10-16  0.802395  0.143270  "
      ]
     },
     "execution_count": 12,
     "metadata": {},
     "output_type": "execute_result"
    }
   ],
   "source": [
    "X_train, X_test, y_train, y_test = train_test_split(X, y, shuffle=False) # Train test splitting\n",
    "X_train.head()"
   ]
  },
  {
   "cell_type": "code",
   "execution_count": 13,
   "metadata": {},
   "outputs": [],
   "source": [
    "# Our data works on multiple scales, so it's neccessary to scale it before feeding it into the model\n",
    "ss = StandardScaler()\n",
    "X_train_sc = ss.fit_transform(np.nan_to_num(X_train))\n",
    "X_test_sc = ss.transform(np.nan_to_num(X_test))"
   ]
  },
  {
   "cell_type": "code",
   "execution_count": 14,
   "metadata": {},
   "outputs": [],
   "source": [
    "#generation of training sequences\n",
    "train_sequences = TimeseriesGenerator(X_train_sc, y_train, length=3, batch_size=64)"
   ]
  },
  {
   "cell_type": "code",
   "execution_count": 15,
   "metadata": {},
   "outputs": [],
   "source": [
    "batch_x, batch_y = train_sequences[0]"
   ]
  },
  {
   "cell_type": "code",
   "execution_count": 16,
   "metadata": {},
   "outputs": [
    {
     "data": {
      "text/plain": [
       "(64, 3, 8)"
      ]
     },
     "execution_count": 16,
     "metadata": {},
     "output_type": "execute_result"
    }
   ],
   "source": [
    "batch_x.shape"
   ]
  },
  {
   "cell_type": "code",
   "execution_count": 17,
   "metadata": {},
   "outputs": [
    {
     "data": {
      "text/plain": [
       "(64, 1)"
      ]
     },
     "execution_count": 17,
     "metadata": {},
     "output_type": "execute_result"
    }
   ],
   "source": [
    "batch_y.shape"
   ]
  },
  {
   "cell_type": "code",
   "execution_count": 18,
   "metadata": {},
   "outputs": [
    {
     "data": {
      "text/html": [
       "<div>\n",
       "<style scoped>\n",
       "    .dataframe tbody tr th:only-of-type {\n",
       "        vertical-align: middle;\n",
       "    }\n",
       "\n",
       "    .dataframe tbody tr th {\n",
       "        vertical-align: top;\n",
       "    }\n",
       "\n",
       "    .dataframe thead th {\n",
       "        text-align: right;\n",
       "    }\n",
       "</style>\n",
       "<table border=\"1\" class=\"dataframe\">\n",
       "  <thead>\n",
       "    <tr style=\"text-align: right;\">\n",
       "      <th></th>\n",
       "      <th>Open</th>\n",
       "      <th>High</th>\n",
       "      <th>Low</th>\n",
       "      <th>Close</th>\n",
       "      <th>compound</th>\n",
       "      <th>neg</th>\n",
       "      <th>neu</th>\n",
       "      <th>pos</th>\n",
       "    </tr>\n",
       "  </thead>\n",
       "  <tbody>\n",
       "    <tr>\n",
       "      <th>0</th>\n",
       "      <td>-0.088831</td>\n",
       "      <td>0.200052</td>\n",
       "      <td>-0.084073</td>\n",
       "      <td>0.109833</td>\n",
       "      <td>2.208490</td>\n",
       "      <td>-1.084701</td>\n",
       "      <td>0.102764</td>\n",
       "      <td>0.539941</td>\n",
       "    </tr>\n",
       "    <tr>\n",
       "      <th>1</th>\n",
       "      <td>0.112844</td>\n",
       "      <td>0.668930</td>\n",
       "      <td>0.090744</td>\n",
       "      <td>0.753752</td>\n",
       "      <td>1.514672</td>\n",
       "      <td>-0.529072</td>\n",
       "      <td>-1.194896</td>\n",
       "      <td>1.515347</td>\n",
       "    </tr>\n",
       "    <tr>\n",
       "      <th>2</th>\n",
       "      <td>0.759718</td>\n",
       "      <td>0.544046</td>\n",
       "      <td>0.651470</td>\n",
       "      <td>0.539501</td>\n",
       "      <td>1.297814</td>\n",
       "      <td>-0.669157</td>\n",
       "      <td>-2.630891</td>\n",
       "      <td>3.041135</td>\n",
       "    </tr>\n",
       "  </tbody>\n",
       "</table>\n",
       "</div>"
      ],
      "text/plain": [
       "       Open      High       Low     Close  compound       neg       neu  \\\n",
       "0 -0.088831  0.200052 -0.084073  0.109833  2.208490 -1.084701  0.102764   \n",
       "1  0.112844  0.668930  0.090744  0.753752  1.514672 -0.529072 -1.194896   \n",
       "2  0.759718  0.544046  0.651470  0.539501  1.297814 -0.669157 -2.630891   \n",
       "\n",
       "        pos  \n",
       "0  0.539941  \n",
       "1  1.515347  \n",
       "2  3.041135  "
      ]
     },
     "execution_count": 18,
     "metadata": {},
     "output_type": "execute_result"
    }
   ],
   "source": [
    "pd.DataFrame(X_train_sc, columns=X_train.columns).head(3)"
   ]
  },
  {
   "cell_type": "code",
   "execution_count": 19,
   "metadata": {},
   "outputs": [],
   "source": [
    "#generation of test sequences\n",
    "\n",
    "test_sequences = TimeseriesGenerator(X_test_sc, y_test, length=3, batch_size=64)"
   ]
  },
  {
   "cell_type": "markdown",
   "metadata": {},
   "source": [
    "# Model building and compiling\n",
    "\n",
    "> In the following lines I set out the many layers in my model, using LSTM, dropout, and Dense layers to train my model. Then I compile the model and record the history for analysis."
   ]
  },
  {
   "cell_type": "code",
   "execution_count": 20,
   "metadata": {},
   "outputs": [
    {
     "name": "stdout",
     "output_type": "stream",
     "text": [
      "WARNING:tensorflow:From /anaconda3/lib/python3.7/site-packages/tensorflow/python/framework/op_def_library.py:263: colocate_with (from tensorflow.python.framework.ops) is deprecated and will be removed in a future version.\n",
      "Instructions for updating:\n",
      "Colocations handled automatically by placer.\n",
      "WARNING:tensorflow:From /anaconda3/lib/python3.7/site-packages/keras/backend/tensorflow_backend.py:3445: calling dropout (from tensorflow.python.ops.nn_ops) with keep_prob is deprecated and will be removed in a future version.\n",
      "Instructions for updating:\n",
      "Please use `rate` instead of `keep_prob`. Rate should be set to `rate = 1 - keep_prob`.\n"
     ]
    }
   ],
   "source": [
    "model = Sequential()\n",
    "model.add(LSTM(8, input_shape=(3, 8), return_sequences=True))\n",
    "model.add(Dropout(0.3))\n",
    "\n",
    "model.add(LSTM(8))\n",
    "\n",
    "model.add(Dropout(0.3))\n",
    "\n",
    "model.add(Dense(6, activation='relu'))\n",
    "\n",
    "model.add(Dropout(0.3))\n",
    "\n",
    "model.add(Dense(4, activation='relu'))\n",
    "\n",
    "model.add(Dropout(0.3))\n",
    "\n",
    "\n",
    "model.add(Dense(3, activation='softmax'))"
   ]
  },
  {
   "cell_type": "code",
   "execution_count": 21,
   "metadata": {},
   "outputs": [
    {
     "name": "stdout",
     "output_type": "stream",
     "text": [
      "WARNING:tensorflow:From /anaconda3/lib/python3.7/site-packages/tensorflow/python/ops/math_ops.py:3066: to_int32 (from tensorflow.python.ops.math_ops) is deprecated and will be removed in a future version.\n",
      "Instructions for updating:\n",
      "Use tf.cast instead.\n"
     ]
    }
   ],
   "source": [
    "model.compile(optimizer=Adam(lr=.001), loss='sparse_categorical_crossentropy', metrics=['acc'])\n",
    "\n",
    "history = model.fit_generator(train_sequences, validation_data=test_sequences, epochs=100, verbose=0)"
   ]
  },
  {
   "cell_type": "markdown",
   "metadata": {},
   "source": [
    "# Checking out the model\n",
    "\n",
    "> In the following section I take a look at the Loss scores and Accuracy of the model as it trains"
   ]
  },
  {
   "cell_type": "code",
   "execution_count": 22,
   "metadata": {},
   "outputs": [],
   "source": [
    "# history.history['loss']"
   ]
  },
  {
   "cell_type": "code",
   "execution_count": 23,
   "metadata": {},
   "outputs": [
    {
     "data": {
      "image/png": "[encoded data removed]",
      "text/plain": [
       "<Figure size 432x288 with 1 Axes>"
      ]
     },
     "metadata": {
      "needs_background": "light"
     },
     "output_type": "display_data"
    }
   ],
   "source": [
    "plt.plot(history.history['loss'], label='Train loss')\n",
    "plt.plot(history.history['val_loss'], label='Test loss')\n",
    "plt.legend();"
   ]
  },
  {
   "cell_type": "code",
   "execution_count": 24,
   "metadata": {},
   "outputs": [
    {
     "data": {
      "image/png": "[encoded data removed]",
      "text/plain": [
       "<Figure size 432x288 with 1 Axes>"
      ]
     },
     "metadata": {
      "needs_background": "light"
     },
     "output_type": "display_data"
    }
   ],
   "source": [
    "plt.plot(history.history['acc'], label='Train accuracy')\n",
    "plt.plot(history.history['val_acc'], label='Test accuracy')\n",
    "plt.legend();"
   ]
  },
  {
   "cell_type": "code",
   "execution_count": 25,
   "metadata": {},
   "outputs": [
    {
     "data": {
      "text/plain": [
       "1    0.363322\n",
       "2    0.350470\n",
       "0    0.286209\n",
       "Name: Target, dtype: float64"
      ]
     },
     "execution_count": 25,
     "metadata": {},
     "output_type": "execute_result"
    }
   ],
   "source": [
    "df.Target.value_counts(normalize=True) # The baseline is .36 as that's the dominant class"
   ]
  },
  {
   "cell_type": "markdown",
   "metadata": {},
   "source": [
    "# Conclusion"
   ]
  },
  {
   "cell_type": "markdown",
   "metadata": {},
   "source": [
    "For the most part, I'm pretty happy with this model. I think the fact that it performs consistently with minimal overfitting and no drastic variation is an achievement in itself. But, as expected, it's very difficult to build high performance models to predict markets. The level of volatility and the black box nature of markets makes it incredibly difficult to do feature selection, and while using sentiment analysis on reddit was an interesting idea it won't be getting anyone rich anytime soon.\n",
    "\n",
    "In the future I plan to expand this model to include more subreddits, more complicated price history, and adjust the model topology to see if I can optimize performance. "
   ]
  }
 ],
 "metadata": {
  "kernelspec": {
   "display_name": "Python 3",
   "language": "python",
   "name": "python3"
  },
  "language_info": {
   "codemirror_mode": {
    "name": "ipython",
    "version": 3
   },
   "file_extension": ".py",
   "mimetype": "text/x-python",
   "name": "python",
   "nbconvert_exporter": "python",
   "pygments_lexer": "ipython3",
   "version": "3.7.1"
  }
 },
 "nbformat": 4,
 "nbformat_minor": 2
}
