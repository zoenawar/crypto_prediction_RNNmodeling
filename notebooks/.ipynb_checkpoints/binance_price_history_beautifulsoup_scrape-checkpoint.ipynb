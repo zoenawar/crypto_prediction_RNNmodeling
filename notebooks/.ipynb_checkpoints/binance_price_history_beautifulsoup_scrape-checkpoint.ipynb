{
 "cells": [
  {
   "cell_type": "markdown",
   "metadata": {},
   "source": [
    "# Using beautiful soup to obtain Binance Coin price history"
   ]
  },
  {
   "cell_type": "markdown",
   "metadata": {},
   "source": [
    "## Imports"
   ]
  },
  {
   "cell_type": "code",
   "execution_count": 1,
   "metadata": {},
   "outputs": [],
   "source": [
    "from bs4 import BeautifulSoup\n",
    "import requests\n",
    "import pandas as pd"
   ]
  },
  {
   "cell_type": "markdown",
   "metadata": {},
   "source": [
    "## Creating the soup"
   ]
  },
  {
   "cell_type": "code",
   "execution_count": 2,
   "metadata": {},
   "outputs": [],
   "source": [
    "url = \"https://coinmarketcap.com/currencies/binance-coin/historical-data/?start=20130428&end=20190515\"\n",
    "content = requests.get(url).content\n",
    "soup = BeautifulSoup(content,'html.parser')\n",
    "table = soup.find('table', {'class': 'table'})"
   ]
  },
  {
   "cell_type": "code",
   "execution_count": 3,
   "metadata": {},
   "outputs": [],
   "source": [
    "data = [[td.text.strip() for td in tr.findChildren('td')] \n",
    "        for tr in table.findChildren('tr')]"
   ]
  },
  {
   "cell_type": "code",
   "execution_count": 4,
   "metadata": {},
   "outputs": [],
   "source": [
    "df = pd.DataFrame(data)\n",
    "df.drop(df.index[0], inplace=True) # skip first row\n",
    "df[0] =  pd.to_datetime(df[0])\n",
    "for i in range(1,7):\n",
    "    df[i] = pd.to_numeric(df[i].str.replace(\",\",\"\").str.replace(\"Unknown\",\"\")) \"Missing with Unknown\"\n",
    "df.columns = ['Date','Open','High','Low','Close','Volume','Market Cap']\n",
    "df.set_index('Date',inplace=True)\n",
    "df.sort_index(inplace=True)"
   ]
  },
  {
   "cell_type": "code",
   "execution_count": 6,
   "metadata": {},
   "outputs": [
    {
     "data": {
      "text/html": [
       "<div>\n",
       "<style scoped>\n",
       "    .dataframe tbody tr th:only-of-type {\n",
       "        vertical-align: middle;\n",
       "    }\n",
       "\n",
       "    .dataframe tbody tr th {\n",
       "        vertical-align: top;\n",
       "    }\n",
       "\n",
       "    .dataframe thead th {\n",
       "        text-align: right;\n",
       "    }\n",
       "</style>\n",
       "<table border=\"1\" class=\"dataframe\">\n",
       "  <thead>\n",
       "    <tr style=\"text-align: right;\">\n",
       "      <th></th>\n",
       "      <th>Open</th>\n",
       "      <th>High</th>\n",
       "      <th>Low</th>\n",
       "      <th>Close</th>\n",
       "      <th>Volume</th>\n",
       "      <th>Market Cap</th>\n",
       "    </tr>\n",
       "    <tr>\n",
       "      <th>Date</th>\n",
       "      <th></th>\n",
       "      <th></th>\n",
       "      <th></th>\n",
       "      <th></th>\n",
       "      <th></th>\n",
       "      <th></th>\n",
       "    </tr>\n",
       "  </thead>\n",
       "  <tbody>\n",
       "    <tr>\n",
       "      <th>2019-05-10</th>\n",
       "      <td>18.80</td>\n",
       "      <td>20.01</td>\n",
       "      <td>18.47</td>\n",
       "      <td>19.60</td>\n",
       "      <td>209097573</td>\n",
       "      <td>2766772454</td>\n",
       "    </tr>\n",
       "    <tr>\n",
       "      <th>2019-05-11</th>\n",
       "      <td>19.60</td>\n",
       "      <td>21.94</td>\n",
       "      <td>19.08</td>\n",
       "      <td>21.05</td>\n",
       "      <td>298063616</td>\n",
       "      <td>2971665277</td>\n",
       "    </tr>\n",
       "    <tr>\n",
       "      <th>2019-05-12</th>\n",
       "      <td>21.08</td>\n",
       "      <td>21.47</td>\n",
       "      <td>20.33</td>\n",
       "      <td>20.83</td>\n",
       "      <td>239206084</td>\n",
       "      <td>2940727441</td>\n",
       "    </tr>\n",
       "    <tr>\n",
       "      <th>2019-05-13</th>\n",
       "      <td>20.83</td>\n",
       "      <td>24.53</td>\n",
       "      <td>20.75</td>\n",
       "      <td>23.81</td>\n",
       "      <td>404049210</td>\n",
       "      <td>3361533517</td>\n",
       "    </tr>\n",
       "    <tr>\n",
       "      <th>2019-05-14</th>\n",
       "      <td>23.89</td>\n",
       "      <td>24.48</td>\n",
       "      <td>22.94</td>\n",
       "      <td>23.63</td>\n",
       "      <td>328207185</td>\n",
       "      <td>3335471229</td>\n",
       "    </tr>\n",
       "  </tbody>\n",
       "</table>\n",
       "</div>"
      ],
      "text/plain": [
       "             Open   High    Low  Close     Volume  Market Cap\n",
       "Date                                                         \n",
       "2019-05-10  18.80  20.01  18.47  19.60  209097573  2766772454\n",
       "2019-05-11  19.60  21.94  19.08  21.05  298063616  2971665277\n",
       "2019-05-12  21.08  21.47  20.33  20.83  239206084  2940727441\n",
       "2019-05-13  20.83  24.53  20.75  23.81  404049210  3361533517\n",
       "2019-05-14  23.89  24.48  22.94  23.63  328207185  3335471229"
      ]
     },
     "execution_count": 6,
     "metadata": {},
     "output_type": "execute_result"
    }
   ],
   "source": [
    "df.tail() # Checking to make sure I got what I wanted"
   ]
  },
  {
   "cell_type": "markdown",
   "metadata": {},
   "source": [
    "# Saving the dataset"
   ]
  },
  {
   "cell_type": "code",
   "execution_count": 7,
   "metadata": {},
   "outputs": [],
   "source": [
    "df.to_csv('/Users/zoenawar/DSI/RNN_LSTM_Cryptocurrency_Project/datasets/bnb_daily_prices_5152019.csv')"
   ]
  }
 ],
 "metadata": {
  "kernelspec": {
   "display_name": "Python 3",
   "language": "python",
   "name": "python3"
  },
  "language_info": {
   "codemirror_mode": {
    "name": "ipython",
    "version": 3
   },
   "file_extension": ".py",
   "mimetype": "text/x-python",
   "name": "python",
   "nbconvert_exporter": "python",
   "pygments_lexer": "ipython3",
   "version": "3.7.1"
  }
 },
 "nbformat": 4,
 "nbformat_minor": 2
}
