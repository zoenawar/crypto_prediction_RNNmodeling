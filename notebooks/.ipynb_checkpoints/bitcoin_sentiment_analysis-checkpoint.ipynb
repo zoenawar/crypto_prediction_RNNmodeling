{
 "cells": [
  {
   "cell_type": "markdown",
   "metadata": {},
   "source": [
    "# Sentiment Analysis on /r/Bitcoin titles and self text"
   ]
  },
  {
   "cell_type": "markdown",
   "metadata": {},
   "source": [
    "> In this notebook, I will be using the VADER Sentiment Intensity Analyzer to create scores for the scraped bitcoin data"
   ]
  },
  {
   "cell_type": "markdown",
   "metadata": {},
   "source": [
    "---"
   ]
  },
  {
   "cell_type": "markdown",
   "metadata": {},
   "source": [
    "## Imports and Data Reading"
   ]
  },
  {
   "cell_type": "code",
   "execution_count": 2,
   "metadata": {},
   "outputs": [],
   "source": [
    "import matplotlib.pyplot as plt\n",
    "import pandas as pd\n",
    "import seaborn as sns\n",
    "\n",
    "from nltk.sentiment.vader import SentimentIntensityAnalyzer\n",
    "from sklearn.feature_extraction.text import CountVectorizer, TfidfVectorizer\n",
    "\n",
    "# easier to see full text with a bigger maxwidth:\n",
    "pd.options.display.max_colwidth = 200"
   ]
  },
  {
   "cell_type": "code",
   "execution_count": 3,
   "metadata": {},
   "outputs": [
    {
     "name": "stderr",
     "output_type": "stream",
     "text": [
      "[nltk_data] Downloading package vader_lexicon to\n",
      "[nltk_data]     /Users/zoenawar/nltk_data...\n",
      "[nltk_data]   Package vader_lexicon is already up-to-date!\n"
     ]
    },
    {
     "data": {
      "text/plain": [
       "True"
      ]
     },
     "execution_count": 3,
     "metadata": {},
     "output_type": "execute_result"
    }
   ],
   "source": [
    "import nltk\n",
    "nltk.download('vader_lexicon')"
   ]
  },
  {
   "cell_type": "code",
   "execution_count": 4,
   "metadata": {},
   "outputs": [
    {
     "name": "stderr",
     "output_type": "stream",
     "text": [
      "/anaconda3/lib/python3.7/site-packages/IPython/core/interactiveshell.py:3049: DtypeWarning: Columns (0) have mixed types. Specify dtype option on import or set low_memory=False.\n",
      "  interactivity=interactivity, compiler=compiler, result=result)\n"
     ]
    }
   ],
   "source": [
    "df = pd.read_csv('/Users/zoenawar/DSI/RNN_LSTM_Cryptocurrency_Project/datasets/rbitcoinscrape.csv', index_col=0)"
   ]
  },
  {
   "cell_type": "code",
   "execution_count": 5,
   "metadata": {},
   "outputs": [
    {
     "data": {
      "text/html": [
       "<div>\n",
       "<style scoped>\n",
       "    .dataframe tbody tr th:only-of-type {\n",
       "        vertical-align: middle;\n",
       "    }\n",
       "\n",
       "    .dataframe tbody tr th {\n",
       "        vertical-align: top;\n",
       "    }\n",
       "\n",
       "    .dataframe thead th {\n",
       "        text-align: right;\n",
       "    }\n",
       "</style>\n",
       "<table border=\"1\" class=\"dataframe\">\n",
       "  <thead>\n",
       "    <tr style=\"text-align: right;\">\n",
       "      <th></th>\n",
       "      <th>all_text</th>\n",
       "      <th>easy_time</th>\n",
       "    </tr>\n",
       "  </thead>\n",
       "  <tbody>\n",
       "    <tr>\n",
       "      <th>0</th>\n",
       "      <td>did coinbase just die?Coinbase?</td>\n",
       "      <td>2019-05-13 12:16:55</td>\n",
       "    </tr>\n",
       "    <tr>\n",
       "      <th>1</th>\n",
       "      <td>Hey guys,\\n\\n&amp;amp;#x200B;\\n\\nI'm looking for the absolute cheapest way to buy/sell bitcoin (using fiat) and trade with other cryptos. \\n\\n&amp;amp;#x200B;\\n\\nMost options for buying have huge fees att...</td>\n",
       "      <td>2019-05-13 12:16:28</td>\n",
       "    </tr>\n",
       "  </tbody>\n",
       "</table>\n",
       "</div>"
      ],
      "text/plain": [
       "                                                                                                                                                                                                  all_text  \\\n",
       "0                                                                                                                                                                          did coinbase just die?Coinbase?   \n",
       "1  Hey guys,\\n\\n&amp;#x200B;\\n\\nI'm looking for the absolute cheapest way to buy/sell bitcoin (using fiat) and trade with other cryptos. \\n\\n&amp;#x200B;\\n\\nMost options for buying have huge fees att...   \n",
       "\n",
       "             easy_time  \n",
       "0  2019-05-13 12:16:55  \n",
       "1  2019-05-13 12:16:28  "
      ]
     },
     "execution_count": 5,
     "metadata": {},
     "output_type": "execute_result"
    }
   ],
   "source": [
    "df.head(2)"
   ]
  },
  {
   "cell_type": "code",
   "execution_count": 6,
   "metadata": {},
   "outputs": [
    {
     "data": {
      "text/plain": [
       "(701260, 2)"
      ]
     },
     "execution_count": 6,
     "metadata": {},
     "output_type": "execute_result"
    }
   ],
   "source": [
    "df.shape"
   ]
  },
  {
   "cell_type": "markdown",
   "metadata": {},
   "source": [
    "---"
   ]
  },
  {
   "cell_type": "markdown",
   "metadata": {},
   "source": [
    "## VADER"
   ]
  },
  {
   "cell_type": "code",
   "execution_count": 7,
   "metadata": {},
   "outputs": [
    {
     "data": {
      "text/plain": [
       "'did coinbase just die?Coinbase?'"
      ]
     },
     "execution_count": 7,
     "metadata": {},
     "output_type": "execute_result"
    }
   ],
   "source": [
    "corpus = list(df['all_text'])\n",
    "corpus[0]"
   ]
  },
  {
   "cell_type": "code",
   "execution_count": 8,
   "metadata": {},
   "outputs": [
    {
     "data": {
      "text/plain": [
       "{'neg': 0.0, 'neu': 1.0, 'pos': 0.0, 'compound': 0.0}"
      ]
     },
     "execution_count": 8,
     "metadata": {},
     "output_type": "execute_result"
    }
   ],
   "source": [
    "sia = SentimentIntensityAnalyzer()\n",
    "sia.polarity_scores(corpus[0])"
   ]
  },
  {
   "cell_type": "markdown",
   "metadata": {},
   "source": [
    "## Making a dictionary of scores"
   ]
  },
  {
   "cell_type": "code",
   "execution_count": null,
   "metadata": {},
   "outputs": [],
   "source": [
    "dicts = []\n",
    "\n",
    "for text in corpus:\n",
    "    try:\n",
    "        scores = sia.polarity_scores(text)\n",
    "        scores['all_text'] = text\n",
    "        dicts.append(scores)\n",
    "    except AttributeError:\n",
    "        scores['all_text'] = 'ERROR'\n",
    "        dicts.append(scores)\n",
    "\n",
    "dict_df = pd.DataFrame(dicts)\n",
    "dict_df.head()"
   ]
  },
  {
   "cell_type": "code",
   "execution_count": null,
   "metadata": {},
   "outputs": [],
   "source": [
    "dict_df.loc[dict_df['all_text'] == 'ERROR'] # I encountered some errors, which for the purposes of time I've simply removed\n"
   ]
  },
  {
   "cell_type": "code",
   "execution_count": null,
   "metadata": {},
   "outputs": [],
   "source": [
    "dict_df.shape"
   ]
  },
  {
   "cell_type": "code",
   "execution_count": 30,
   "metadata": {},
   "outputs": [],
   "source": [
    "dict_df = dict_df[dict_df.all_text != 'ERROR']"
   ]
  },
  {
   "cell_type": "code",
   "execution_count": 32,
   "metadata": {},
   "outputs": [],
   "source": [
    "scores_6year_alltext = dict_df.merge(df, left_on='all_text', right_on='all_text')"
   ]
  },
  {
   "cell_type": "code",
   "execution_count": 36,
   "metadata": {
    "scrolled": true
   },
   "outputs": [
    {
     "data": {
      "text/html": [
       "<div>\n",
       "<style scoped>\n",
       "    .dataframe tbody tr th:only-of-type {\n",
       "        vertical-align: middle;\n",
       "    }\n",
       "\n",
       "    .dataframe tbody tr th {\n",
       "        vertical-align: top;\n",
       "    }\n",
       "\n",
       "    .dataframe thead th {\n",
       "        text-align: right;\n",
       "    }\n",
       "</style>\n",
       "<table border=\"1\" class=\"dataframe\">\n",
       "  <thead>\n",
       "    <tr style=\"text-align: right;\">\n",
       "      <th></th>\n",
       "      <th>all_text</th>\n",
       "      <th>compound</th>\n",
       "      <th>neg</th>\n",
       "      <th>neu</th>\n",
       "      <th>pos</th>\n",
       "      <th>easy_time</th>\n",
       "    </tr>\n",
       "  </thead>\n",
       "  <tbody>\n",
       "    <tr>\n",
       "      <th>799212</th>\n",
       "      <td>http://www.dailydot.com/business/bitcoin-offshore-tax-haven/Bitcoin is the offshore tax haven of the future</td>\n",
       "      <td>0.0000</td>\n",
       "      <td>0.000</td>\n",
       "      <td>1.000</td>\n",
       "      <td>0.000</td>\n",
       "      <td>2013-10-12 00:38:45</td>\n",
       "    </tr>\n",
       "    <tr>\n",
       "      <th>799213</th>\n",
       "      <td>free bitcoin1381566853.0</td>\n",
       "      <td>0.5106</td>\n",
       "      <td>0.000</td>\n",
       "      <td>0.233</td>\n",
       "      <td>0.767</td>\n",
       "      <td>2013-10-12 00:34:13</td>\n",
       "    </tr>\n",
       "    <tr>\n",
       "      <th>799214</th>\n",
       "      <td>Hey Everyone,\\n\\nI run www.primedice.com , unfortunately right now when you google primedice the first result is a google ad for a clone called\\n[PLEASE DO NOT VISIT THIS SITE]: (Primedicebot.com)...</td>\n",
       "      <td>0.8935</td>\n",
       "      <td>0.019</td>\n",
       "      <td>0.855</td>\n",
       "      <td>0.126</td>\n",
       "      <td>2013-10-12 00:31:10</td>\n",
       "    </tr>\n",
       "    <tr>\n",
       "      <th>799215</th>\n",
       "      <td>Why the Demise of Silk Road Means Bitcoins Are Here to Stay - tradersnetwork.biz - list trade smile :)1381565277.0</td>\n",
       "      <td>0.3612</td>\n",
       "      <td>0.000</td>\n",
       "      <td>0.865</td>\n",
       "      <td>0.135</td>\n",
       "      <td>2013-10-12 00:07:57</td>\n",
       "    </tr>\n",
       "    <tr>\n",
       "      <th>799216</th>\n",
       "      <td>free bitcoin in 30minutes....1381564874.0</td>\n",
       "      <td>0.5106</td>\n",
       "      <td>0.000</td>\n",
       "      <td>0.476</td>\n",
       "      <td>0.524</td>\n",
       "      <td>2013-10-12 00:01:14</td>\n",
       "    </tr>\n",
       "  </tbody>\n",
       "</table>\n",
       "</div>"
      ],
      "text/plain": [
       "                                                                                                                                                                                                       all_text  \\\n",
       "799212                                                                                              http://www.dailydot.com/business/bitcoin-offshore-tax-haven/Bitcoin is the offshore tax haven of the future   \n",
       "799213                                                                                                                                                                                 free bitcoin1381566853.0   \n",
       "799214  Hey Everyone,\\n\\nI run www.primedice.com , unfortunately right now when you google primedice the first result is a google ad for a clone called\\n[PLEASE DO NOT VISIT THIS SITE]: (Primedicebot.com)...   \n",
       "799215                                                                                       Why the Demise of Silk Road Means Bitcoins Are Here to Stay - tradersnetwork.biz - list trade smile :)1381565277.0   \n",
       "799216                                                                                                                                                                free bitcoin in 30minutes....1381564874.0   \n",
       "\n",
       "        compound    neg    neu    pos            easy_time  \n",
       "799212    0.0000  0.000  1.000  0.000  2013-10-12 00:38:45  \n",
       "799213    0.5106  0.000  0.233  0.767  2013-10-12 00:34:13  \n",
       "799214    0.8935  0.019  0.855  0.126  2013-10-12 00:31:10  \n",
       "799215    0.3612  0.000  0.865  0.135  2013-10-12 00:07:57  \n",
       "799216    0.5106  0.000  0.476  0.524  2013-10-12 00:01:14  "
      ]
     },
     "execution_count": 36,
     "metadata": {},
     "output_type": "execute_result"
    }
   ],
   "source": [
    "scores_6year_alltext.tail()"
   ]
  },
  {
   "cell_type": "code",
   "execution_count": 37,
   "metadata": {},
   "outputs": [
    {
     "data": {
      "text/plain": [
       "(799217, 6)"
      ]
     },
     "execution_count": 37,
     "metadata": {},
     "output_type": "execute_result"
    }
   ],
   "source": [
    "scores_6year_alltext.shape"
   ]
  },
  {
   "cell_type": "code",
   "execution_count": 41,
   "metadata": {
    "scrolled": true
   },
   "outputs": [
    {
     "data": {
      "text/html": [
       "<div>\n",
       "<style scoped>\n",
       "    .dataframe tbody tr th:only-of-type {\n",
       "        vertical-align: middle;\n",
       "    }\n",
       "\n",
       "    .dataframe tbody tr th {\n",
       "        vertical-align: top;\n",
       "    }\n",
       "\n",
       "    .dataframe thead th {\n",
       "        text-align: right;\n",
       "    }\n",
       "</style>\n",
       "<table border=\"1\" class=\"dataframe\">\n",
       "  <thead>\n",
       "    <tr style=\"text-align: right;\">\n",
       "      <th></th>\n",
       "      <th>all_text</th>\n",
       "      <th>compound</th>\n",
       "      <th>neg</th>\n",
       "      <th>neu</th>\n",
       "      <th>pos</th>\n",
       "      <th>easy_time</th>\n",
       "    </tr>\n",
       "  </thead>\n",
       "  <tbody>\n",
       "    <tr>\n",
       "      <th>0</th>\n",
       "      <td>did coinbase just die?Coinbase?</td>\n",
       "      <td>0.000</td>\n",
       "      <td>0.000</td>\n",
       "      <td>1.000</td>\n",
       "      <td>0.000</td>\n",
       "      <td>2019-05-13 12:16:55</td>\n",
       "    </tr>\n",
       "    <tr>\n",
       "      <th>1</th>\n",
       "      <td>Hey guys,\\n\\n&amp;amp;#x200B;\\n\\nI'm looking for the absolute cheapest way to buy/sell bitcoin (using fiat) and trade with other cryptos. \\n\\n&amp;amp;#x200B;\\n\\nMost options for buying have huge fees att...</td>\n",
       "      <td>-0.168</td>\n",
       "      <td>0.042</td>\n",
       "      <td>0.926</td>\n",
       "      <td>0.032</td>\n",
       "      <td>2019-05-13 12:16:28</td>\n",
       "    </tr>\n",
       "    <tr>\n",
       "      <th>2</th>\n",
       "      <td>[removed]What is an OpenSource Winemaking?</td>\n",
       "      <td>0.000</td>\n",
       "      <td>0.000</td>\n",
       "      <td>1.000</td>\n",
       "      <td>0.000</td>\n",
       "      <td>2019-05-13 12:15:53</td>\n",
       "    </tr>\n",
       "    <tr>\n",
       "      <th>3</th>\n",
       "      <td>BITCOIN ADOPTION IS HERE!! New HTC Smartphone Will Run a Full Node</td>\n",
       "      <td>0.000</td>\n",
       "      <td>0.000</td>\n",
       "      <td>1.000</td>\n",
       "      <td>0.000</td>\n",
       "      <td>2019-05-13 12:15:25</td>\n",
       "    </tr>\n",
       "    <tr>\n",
       "      <th>4</th>\n",
       "      <td>😂🤣😂🤣🤑🤑</td>\n",
       "      <td>0.000</td>\n",
       "      <td>0.000</td>\n",
       "      <td>1.000</td>\n",
       "      <td>0.000</td>\n",
       "      <td>2019-05-13 12:14:25</td>\n",
       "    </tr>\n",
       "  </tbody>\n",
       "</table>\n",
       "</div>"
      ],
      "text/plain": [
       "                                                                                                                                                                                                  all_text  \\\n",
       "0                                                                                                                                                                          did coinbase just die?Coinbase?   \n",
       "1  Hey guys,\\n\\n&amp;#x200B;\\n\\nI'm looking for the absolute cheapest way to buy/sell bitcoin (using fiat) and trade with other cryptos. \\n\\n&amp;#x200B;\\n\\nMost options for buying have huge fees att...   \n",
       "2                                                                                                                                                               [removed]What is an OpenSource Winemaking?   \n",
       "3                                                                                                                                       BITCOIN ADOPTION IS HERE!! New HTC Smartphone Will Run a Full Node   \n",
       "4                                                                                                                                                                                                   😂🤣😂🤣🤑🤑   \n",
       "\n",
       "   compound    neg    neu    pos            easy_time  \n",
       "0     0.000  0.000  1.000  0.000  2019-05-13 12:16:55  \n",
       "1    -0.168  0.042  0.926  0.032  2019-05-13 12:16:28  \n",
       "2     0.000  0.000  1.000  0.000  2019-05-13 12:15:53  \n",
       "3     0.000  0.000  1.000  0.000  2019-05-13 12:15:25  \n",
       "4     0.000  0.000  1.000  0.000  2019-05-13 12:14:25  "
      ]
     },
     "execution_count": 41,
     "metadata": {},
     "output_type": "execute_result"
    }
   ],
   "source": [
    "scores_6year_alltext.head()"
   ]
  },
  {
   "cell_type": "markdown",
   "metadata": {},
   "source": [
    "# Now that I've got the scores, I can save them to a csv"
   ]
  },
  {
   "cell_type": "code",
   "execution_count": 43,
   "metadata": {},
   "outputs": [],
   "source": [
    "scores_6year_alltext.to_csv('/Users/zoenawar/DSI/RNN_LSTM_Cryptocurrency_Project/datasets/rbitcoin_sentiment_scores.csv')\n"
   ]
  }
 ],
 "metadata": {
  "kernelspec": {
   "display_name": "Python 3",
   "language": "python",
   "name": "python3"
  },
  "language_info": {
   "codemirror_mode": {
    "name": "ipython",
    "version": 3
   },
   "file_extension": ".py",
   "mimetype": "text/x-python",
   "name": "python",
   "nbconvert_exporter": "python",
   "pygments_lexer": "ipython3",
   "version": "3.7.1"
  }
 },
 "nbformat": 4,
 "nbformat_minor": 2
}
