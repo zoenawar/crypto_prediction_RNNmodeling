{
 "cells": [
  {
   "cell_type": "markdown",
   "metadata": {},
   "source": [
    "# Scraping titles and self text from /r/Bitcoin"
   ]
  },
  {
   "cell_type": "markdown",
   "metadata": {},
   "source": [
    "> The goal of this notebook is to neatly scrape titles and dates from the /r/Bitcoin subreddit so that I can perform sentiment analysis on them. "
   ]
  },
  {
   "cell_type": "markdown",
   "metadata": {},
   "source": [
    "---"
   ]
  },
  {
   "cell_type": "markdown",
   "metadata": {},
   "source": [
    "## Imports\n",
    "> Here I do my imports, most notably getting the PushshiftAPI"
   ]
  },
  {
   "cell_type": "code",
   "execution_count": 1,
   "metadata": {},
   "outputs": [],
   "source": [
    "from psaw import PushshiftAPI\n",
    "import pandas as pd\n",
    "import datetime as dt\n",
    "from datetime import datetime\n",
    "\n",
    "api = PushshiftAPI()"
   ]
  },
  {
   "cell_type": "markdown",
   "metadata": {},
   "source": [
    "## Setting epoch and filter"
   ]
  },
  {
   "cell_type": "code",
   "execution_count": 2,
   "metadata": {},
   "outputs": [
    {
     "name": "stderr",
     "output_type": "stream",
     "text": [
      "/anaconda3/lib/python3.7/site-packages/psaw/PushshiftAPI.py:153: UserWarning: Unable to connect to pushshift.io. Retrying after backoff.\n",
      "  warnings.warn(\"Unable to connect to pushshift.io. Retrying after backoff.\")\n"
     ]
    }
   ],
   "source": [
    "start_epoch=int(dt.datetime(2013, 10, 12).timestamp()) #selecting the date I want to go back to\n",
    "\n",
    "results = list(api.search_submissions(after=start_epoch,\n",
    "                            subreddit='bitcoin',\n",
    "                            filter=['domain','author', 'title', 'selftext']))"
   ]
  },
  {
   "cell_type": "markdown",
   "metadata": {},
   "source": [
    "---"
   ]
  },
  {
   "cell_type": "markdown",
   "metadata": {},
   "source": [
    "## Getting everything into a neat dataframe"
   ]
  },
  {
   "cell_type": "code",
   "execution_count": 3,
   "metadata": {},
   "outputs": [
    {
     "data": {
      "text/plain": [
       "{'author': 'cryptopigmedia',\n",
       " 'created_utc': 1557764125,\n",
       " 'domain': 'youtube.com',\n",
       " 'selftext': '',\n",
       " 'title': 'BITCOIN ADOPTION IS HERE!! New HTC Smartphone Will Run a Full Node',\n",
       " 'created': 1557778525.0}"
      ]
     },
     "execution_count": 3,
     "metadata": {},
     "output_type": "execute_result"
    }
   ],
   "source": [
    "results[3].d_"
   ]
  },
  {
   "cell_type": "code",
   "execution_count": 4,
   "metadata": {},
   "outputs": [
    {
     "data": {
      "text/plain": [
       "[submission(author='Garandhero', created_utc=1557764215, domain='self.Bitcoin', selftext='did coinbase just die?', title='Coinbase?', created=1557778615.0, d_={'author': 'Garandhero', 'created_utc': 1557764215, 'domain': 'self.Bitcoin', 'selftext': 'did coinbase just die?', 'title': 'Coinbase?', 'created': 1557778615.0}),\n",
       " submission(author='gnulligan', created_utc=1557764188, domain='self.Bitcoin', selftext=\"Hey guys,\\n\\n&amp;#x200B;\\n\\nI'm looking for the absolute cheapest way to buy/sell bitcoin (using fiat) and trade with other cryptos. \\n\\n&amp;#x200B;\\n\\nMost options for buying have huge fees attached. Same for trading. \\n\\n&amp;#x200B;\\n\\nSo, what's the cheapest (PREFERABLY FREE) way to buy, sell, and trade btc and other crypto?\\n\\n&amp;#x200B;\\n\\nBTW: I already tried Cashapp and it is literally impossible to withdraw your money.\", title='Absolute lowest fee options for buy/sell/trade?', created=1557778588.0, d_={'author': 'gnulligan', 'created_utc': 1557764188, 'domain': 'self.Bitcoin', 'selftext': \"Hey guys,\\n\\n&amp;#x200B;\\n\\nI'm looking for the absolute cheapest way to buy/sell bitcoin (using fiat) and trade with other cryptos. \\n\\n&amp;#x200B;\\n\\nMost options for buying have huge fees attached. Same for trading. \\n\\n&amp;#x200B;\\n\\nSo, what's the cheapest (PREFERABLY FREE) way to buy, sell, and trade btc and other crypto?\\n\\n&amp;#x200B;\\n\\nBTW: I already tried Cashapp and it is literally impossible to withdraw your money.\", 'title': 'Absolute lowest fee options for buy/sell/trade?', 'created': 1557778588.0}),\n",
       " submission(author='WineAmbassador', created_utc=1557764153, domain='self.Bitcoin', selftext='[removed]', title='What is an OpenSource Winemaking?', created=1557778553.0, d_={'author': 'WineAmbassador', 'created_utc': 1557764153, 'domain': 'self.Bitcoin', 'selftext': '[removed]', 'title': 'What is an OpenSource Winemaking?', 'created': 1557778553.0})]"
      ]
     },
     "execution_count": 4,
     "metadata": {},
     "output_type": "execute_result"
    }
   ],
   "source": [
    "results[:3]"
   ]
  },
  {
   "cell_type": "markdown",
   "metadata": {},
   "source": [
    "> After getting everything into a list of objects, I decided to make an original dataframe (og_df) so i could maintain the original information that I will be stripping later for my main dataframe (df). This is for a mix of eas of use without missing any information I may decide I want later on."
   ]
  },
  {
   "cell_type": "code",
   "execution_count": 5,
   "metadata": {},
   "outputs": [],
   "source": [
    "og_df = pd.DataFrame(results)"
   ]
  },
  {
   "cell_type": "code",
   "execution_count": 6,
   "metadata": {},
   "outputs": [
    {
     "data": {
      "text/plain": [
       "(701252, 7)"
      ]
     },
     "execution_count": 6,
     "metadata": {},
     "output_type": "execute_result"
    }
   ],
   "source": [
    "og_df.shape"
   ]
  },
  {
   "cell_type": "code",
   "execution_count": 7,
   "metadata": {},
   "outputs": [
    {
     "data": {
      "text/plain": [
       "self.Bitcoin    325655\n",
       "i.redd.it        33841\n",
       "youtube.com      26740\n",
       "twitter.com      15229\n",
       "imgur.com        13495\n",
       "i.imgur.com      12058\n",
       "youtu.be          9870\n",
       "coindesk.com      7580\n",
       "medium.com        6675\n",
       "reddit.com        6113\n",
       "Name: domain, dtype: int64"
      ]
     },
     "execution_count": 7,
     "metadata": {},
     "output_type": "execute_result"
    }
   ],
   "source": [
    "og_df.domain.value_counts().head(10)"
   ]
  },
  {
   "cell_type": "markdown",
   "metadata": {},
   "source": [
    "> Next I added a new column 'easy_time' with UTC converted to plain dates."
   ]
  },
  {
   "cell_type": "code",
   "execution_count": 8,
   "metadata": {},
   "outputs": [
    {
     "name": "stdout",
     "output_type": "stream",
     "text": [
      "2019-05-06 15:59:45\n"
     ]
    }
   ],
   "source": [
    "ts = 1557172785\n",
    "dt_object = datetime.fromtimestamp(ts)\n",
    "\n",
    "print(dt_object)"
   ]
  },
  {
   "cell_type": "code",
   "execution_count": 9,
   "metadata": {},
   "outputs": [],
   "source": [
    "og_df['easy_time'] = og_df.apply(lambda row: datetime.fromtimestamp(row['created_utc']), axis=1)"
   ]
  },
  {
   "cell_type": "markdown",
   "metadata": {},
   "source": [
    "## Cleaning any selftext and combining it with titles into a single column"
   ]
  },
  {
   "cell_type": "code",
   "execution_count": 10,
   "metadata": {},
   "outputs": [
    {
     "data": {
      "text/plain": [
       "author                 object\n",
       "created_utc             int64\n",
       "domain                 object\n",
       "selftext               object\n",
       "title                  object\n",
       "created                object\n",
       "d_                     object\n",
       "easy_time      datetime64[ns]\n",
       "dtype: object"
      ]
     },
     "execution_count": 10,
     "metadata": {},
     "output_type": "execute_result"
    }
   ],
   "source": [
    "og_df.dtypes"
   ]
  },
  {
   "cell_type": "code",
   "execution_count": 11,
   "metadata": {},
   "outputs": [],
   "source": [
    "og_df['all_text'] = og_df['selftext'].map(str) + og_df['title'].map(str)"
   ]
  },
  {
   "cell_type": "code",
   "execution_count": 13,
   "metadata": {},
   "outputs": [
    {
     "data": {
      "text/html": [
       "<div>\n",
       "<style scoped>\n",
       "    .dataframe tbody tr th:only-of-type {\n",
       "        vertical-align: middle;\n",
       "    }\n",
       "\n",
       "    .dataframe tbody tr th {\n",
       "        vertical-align: top;\n",
       "    }\n",
       "\n",
       "    .dataframe thead th {\n",
       "        text-align: right;\n",
       "    }\n",
       "</style>\n",
       "<table border=\"1\" class=\"dataframe\">\n",
       "  <thead>\n",
       "    <tr style=\"text-align: right;\">\n",
       "      <th></th>\n",
       "      <th>author</th>\n",
       "      <th>created_utc</th>\n",
       "      <th>domain</th>\n",
       "      <th>selftext</th>\n",
       "      <th>title</th>\n",
       "      <th>created</th>\n",
       "      <th>d_</th>\n",
       "      <th>easy_time</th>\n",
       "      <th>all_text</th>\n",
       "    </tr>\n",
       "  </thead>\n",
       "  <tbody>\n",
       "    <tr>\n",
       "      <th>701250</th>\n",
       "      <td>thetoptier</td>\n",
       "      <td>1381550877</td>\n",
       "      <td>tradersnetwork.biz</td>\n",
       "      <td>Why the Demise of Silk Road Means Bitcoins Are...</td>\n",
       "      <td>1.38157e+09</td>\n",
       "      <td>{'author': 'thetoptier', 'created_utc': 138155...</td>\n",
       "      <td>None</td>\n",
       "      <td>2013-10-12 00:07:57</td>\n",
       "      <td>Why the Demise of Silk Road Means Bitcoins Are...</td>\n",
       "    </tr>\n",
       "    <tr>\n",
       "      <th>701251</th>\n",
       "      <td>j6wj564jhu</td>\n",
       "      <td>1381550474</td>\n",
       "      <td>2-ip.com</td>\n",
       "      <td>free bitcoin in 30minutes....</td>\n",
       "      <td>1.38156e+09</td>\n",
       "      <td>{'author': 'j6wj564jhu', 'created_utc': 138155...</td>\n",
       "      <td>None</td>\n",
       "      <td>2013-10-12 00:01:14</td>\n",
       "      <td>free bitcoin in 30minutes....1381564874.0</td>\n",
       "    </tr>\n",
       "  </tbody>\n",
       "</table>\n",
       "</div>"
      ],
      "text/plain": [
       "            author  created_utc              domain  \\\n",
       "701250  thetoptier   1381550877  tradersnetwork.biz   \n",
       "701251  j6wj564jhu   1381550474            2-ip.com   \n",
       "\n",
       "                                                 selftext        title  \\\n",
       "701250  Why the Demise of Silk Road Means Bitcoins Are...  1.38157e+09   \n",
       "701251                      free bitcoin in 30minutes....  1.38156e+09   \n",
       "\n",
       "                                                  created    d_  \\\n",
       "701250  {'author': 'thetoptier', 'created_utc': 138155...  None   \n",
       "701251  {'author': 'j6wj564jhu', 'created_utc': 138155...  None   \n",
       "\n",
       "                 easy_time                                           all_text  \n",
       "701250 2013-10-12 00:07:57  Why the Demise of Silk Road Means Bitcoins Are...  \n",
       "701251 2013-10-12 00:01:14          free bitcoin in 30minutes....1381564874.0  "
      ]
     },
     "execution_count": 13,
     "metadata": {},
     "output_type": "execute_result"
    }
   ],
   "source": [
    "og_df.tail(2)"
   ]
  },
  {
   "cell_type": "code",
   "execution_count": 14,
   "metadata": {},
   "outputs": [],
   "source": [
    "df = og_df[['all_text', 'easy_time']]"
   ]
  },
  {
   "cell_type": "code",
   "execution_count": 15,
   "metadata": {},
   "outputs": [
    {
     "data": {
      "text/plain": [
       "(701252, 2)"
      ]
     },
     "execution_count": 15,
     "metadata": {},
     "output_type": "execute_result"
    }
   ],
   "source": [
    "df.shape"
   ]
  },
  {
   "cell_type": "code",
   "execution_count": 16,
   "metadata": {},
   "outputs": [
    {
     "data": {
      "text/plain": [
       "'😂🤣😂🤣🤑🤑'"
      ]
     },
     "execution_count": 16,
     "metadata": {},
     "output_type": "execute_result"
    }
   ],
   "source": [
    "df.all_text[4]"
   ]
  },
  {
   "cell_type": "markdown",
   "metadata": {},
   "source": [
    "# Saving to a CSV\n",
    ">I've now got a solid scrape of the bitcoin subreddit and am ready to move on to sentiment analysis"
   ]
  },
  {
   "cell_type": "code",
   "execution_count": 17,
   "metadata": {},
   "outputs": [],
   "source": [
    "# df.to_csv('/Users/zoenawar/DSI/RNN_LSTM_Cryptocurrency_Project/datasets/rbitcoinscrape')"
   ]
  }
 ],
 "metadata": {
  "kernelspec": {
   "display_name": "Python 3",
   "language": "python",
   "name": "python3"
  },
  "language_info": {
   "codemirror_mode": {
    "name": "ipython",
    "version": 3
   },
   "file_extension": ".py",
   "mimetype": "text/x-python",
   "name": "python",
   "nbconvert_exporter": "python",
   "pygments_lexer": "ipython3",
   "version": "3.7.1"
  }
 },
 "nbformat": 4,
 "nbformat_minor": 2
}
