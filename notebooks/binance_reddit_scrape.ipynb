{
 "cells": [
  {
   "cell_type": "markdown",
   "metadata": {},
   "source": [
    "# Scraping titles and self text from /r/Binance using the pushift api"
   ]
  },
  {
   "cell_type": "markdown",
   "metadata": {},
   "source": [
    "> The goal of this notebook is to neatly scrape titles and dates from the /r/Bitcoin subreddit so that I can perform sentiment analysis on them. "
   ]
  },
  {
   "cell_type": "markdown",
   "metadata": {},
   "source": [
    "---"
   ]
  },
  {
   "cell_type": "markdown",
   "metadata": {},
   "source": [
    "## Imports\n",
    "> Here I do my imports, most notably getting the PushshiftAPI"
   ]
  },
  {
   "cell_type": "code",
   "execution_count": 1,
   "metadata": {},
   "outputs": [],
   "source": [
    "from psaw import PushshiftAPI\n",
    "import pandas as pd\n",
    "import datetime as dt\n",
    "from datetime import datetime\n",
    "\n",
    "api = PushshiftAPI()"
   ]
  },
  {
   "cell_type": "markdown",
   "metadata": {},
   "source": [
    "## Setting epoch and filter"
   ]
  },
  {
   "cell_type": "code",
   "execution_count": 2,
   "metadata": {},
   "outputs": [],
   "source": [
    "start_epoch=int(dt.datetime(2017, 7, 24).timestamp())\n",
    "\n",
    "results = list(api.search_submissions(after=start_epoch,\n",
    "                            subreddit='binance',\n",
    "                            filter=['domain','author', 'title', 'selftext']))"
   ]
  },
  {
   "cell_type": "markdown",
   "metadata": {},
   "source": [
    "---"
   ]
  },
  {
   "cell_type": "markdown",
   "metadata": {},
   "source": [
    "## Getting everything into a neat dataframe"
   ]
  },
  {
   "cell_type": "code",
   "execution_count": 3,
   "metadata": {},
   "outputs": [
    {
     "data": {
      "text/plain": [
       "{'author': 'sulli3ms',\n",
       " 'created_utc': 1557937622,\n",
       " 'domain': 'i.redd.it',\n",
       " 'selftext': '',\n",
       " 'title': 'Withdrawals still frozen? How much longer?',\n",
       " 'created': 1557952022.0}"
      ]
     },
     "execution_count": 3,
     "metadata": {},
     "output_type": "execute_result"
    }
   ],
   "source": [
    "results[3].d_"
   ]
  },
  {
   "cell_type": "code",
   "execution_count": 4,
   "metadata": {},
   "outputs": [
    {
     "data": {
      "text/plain": [
       "[submission(author='Dellz2k19', created_utc=1557940373, domain='self.binance', selftext='[removed]', title='Binance Referral Links', created=1557954773.0, d_={'author': 'Dellz2k19', 'created_utc': 1557940373, 'domain': 'self.binance', 'selftext': '[removed]', 'title': 'Binance Referral Links', 'created': 1557954773.0}),\n",
       " submission(author='coinsmash1', created_utc=1557939796, domain='coinrivet.com', selftext='', title='Crypto trading volume hits $100 billion on CoinMarketCap.com', created=1557954196.0, d_={'author': 'coinsmash1', 'created_utc': 1557939796, 'domain': 'coinrivet.com', 'selftext': '', 'title': 'Crypto trading volume hits $100 billion on CoinMarketCap.com', 'created': 1557954196.0}),\n",
       " submission(author='acauseforconcern', created_utc=1557939719, domain='self.binance', selftext='', title='13 hours since the update started and still no withdrawls, this is Unacceptable.', created=1557954119.0, d_={'author': 'acauseforconcern', 'created_utc': 1557939719, 'domain': 'self.binance', 'selftext': '', 'title': '13 hours since the update started and still no withdrawls, this is Unacceptable.', 'created': 1557954119.0})]"
      ]
     },
     "execution_count": 4,
     "metadata": {},
     "output_type": "execute_result"
    }
   ],
   "source": [
    "results[:3]"
   ]
  },
  {
   "cell_type": "markdown",
   "metadata": {},
   "source": [
    "> After getting everything into a list of objects, I decided to make an original dataframe (og_df) so i could maintain the original information that I will be stripping later for my main dataframe (df). This is for a mix of eas of use without missing any information I may decide I want later on."
   ]
  },
  {
   "cell_type": "code",
   "execution_count": 5,
   "metadata": {},
   "outputs": [],
   "source": [
    "og_df = pd.DataFrame(results)"
   ]
  },
  {
   "cell_type": "code",
   "execution_count": 6,
   "metadata": {},
   "outputs": [
    {
     "data": {
      "text/plain": [
       "(21705, 7)"
      ]
     },
     "execution_count": 6,
     "metadata": {},
     "output_type": "execute_result"
    }
   ],
   "source": [
    "og_df.shape"
   ]
  },
  {
   "cell_type": "code",
   "execution_count": 7,
   "metadata": {},
   "outputs": [
    {
     "data": {
      "text/plain": [
       "self.binance             16367\n",
       "i.redd.it                  742\n",
       "binance.com                381\n",
       "youtube.com                338\n",
       "support.binance.com        231\n",
       "youtu.be                   177\n",
       "medium.com                 159\n",
       "twitter.com                150\n",
       "globalcryptopress.com       93\n",
       "binance.zendesk.com         84\n",
       "Name: domain, dtype: int64"
      ]
     },
     "execution_count": 7,
     "metadata": {},
     "output_type": "execute_result"
    }
   ],
   "source": [
    "og_df.domain.value_counts().head(10)"
   ]
  },
  {
   "cell_type": "markdown",
   "metadata": {},
   "source": [
    "> Next I added a new column 'easy_time' with UTC converted to plain dates."
   ]
  },
  {
   "cell_type": "code",
   "execution_count": 8,
   "metadata": {},
   "outputs": [
    {
     "name": "stdout",
     "output_type": "stream",
     "text": [
      "2019-05-06 15:59:45\n"
     ]
    }
   ],
   "source": [
    "ts = 1557172785\n",
    "dt_object = datetime.fromtimestamp(ts)\n",
    "\n",
    "print(dt_object)"
   ]
  },
  {
   "cell_type": "code",
   "execution_count": 9,
   "metadata": {},
   "outputs": [],
   "source": [
    "og_df['easy_time'] = og_df.apply(lambda row: datetime.fromtimestamp(row['created_utc']), axis=1)"
   ]
  },
  {
   "cell_type": "markdown",
   "metadata": {},
   "source": [
    "## Cleaning any selftext and combining it with titles into a single column"
   ]
  },
  {
   "cell_type": "code",
   "execution_count": 10,
   "metadata": {},
   "outputs": [
    {
     "data": {
      "text/plain": [
       "author                 object\n",
       "created_utc             int64\n",
       "domain                 object\n",
       "selftext               object\n",
       "title                  object\n",
       "created                object\n",
       "d_                     object\n",
       "easy_time      datetime64[ns]\n",
       "dtype: object"
      ]
     },
     "execution_count": 10,
     "metadata": {},
     "output_type": "execute_result"
    }
   ],
   "source": [
    "og_df.dtypes"
   ]
  },
  {
   "cell_type": "code",
   "execution_count": 11,
   "metadata": {},
   "outputs": [],
   "source": [
    "og_df['all_text'] = og_df['selftext'].map(str) + og_df['title'].map(str)"
   ]
  },
  {
   "cell_type": "code",
   "execution_count": 12,
   "metadata": {},
   "outputs": [
    {
     "data": {
      "text/html": [
       "<div>\n",
       "<style scoped>\n",
       "    .dataframe tbody tr th:only-of-type {\n",
       "        vertical-align: middle;\n",
       "    }\n",
       "\n",
       "    .dataframe tbody tr th {\n",
       "        vertical-align: top;\n",
       "    }\n",
       "\n",
       "    .dataframe thead th {\n",
       "        text-align: right;\n",
       "    }\n",
       "</style>\n",
       "<table border=\"1\" class=\"dataframe\">\n",
       "  <thead>\n",
       "    <tr style=\"text-align: right;\">\n",
       "      <th></th>\n",
       "      <th>author</th>\n",
       "      <th>created_utc</th>\n",
       "      <th>domain</th>\n",
       "      <th>selftext</th>\n",
       "      <th>title</th>\n",
       "      <th>created</th>\n",
       "      <th>d_</th>\n",
       "      <th>easy_time</th>\n",
       "      <th>all_text</th>\n",
       "    </tr>\n",
       "  </thead>\n",
       "  <tbody>\n",
       "    <tr>\n",
       "      <th>21703</th>\n",
       "      <td>Binance</td>\n",
       "      <td>1500894604</td>\n",
       "      <td>twitter.com</td>\n",
       "      <td>All the trading fee is free on Binance.com wit...</td>\n",
       "      <td>1.50091e+09</td>\n",
       "      <td>{'author': 'Binance', 'created_utc': 150089460...</td>\n",
       "      <td>None</td>\n",
       "      <td>2017-07-24 07:10:04</td>\n",
       "      <td>All the trading fee is free on Binance.com wit...</td>\n",
       "    </tr>\n",
       "    <tr>\n",
       "      <th>21704</th>\n",
       "      <td>[deleted]</td>\n",
       "      <td>1500891655</td>\n",
       "      <td>self.binance</td>\n",
       "      <td>[deleted]</td>\n",
       "      <td>The trading fee is free on binance.com within ...</td>\n",
       "      <td>1.50091e+09</td>\n",
       "      <td>{'author': '[deleted]', 'created_utc': 1500891...</td>\n",
       "      <td>2017-07-24 06:20:55</td>\n",
       "      <td>[deleted]The trading fee is free on binance.co...</td>\n",
       "    </tr>\n",
       "  </tbody>\n",
       "</table>\n",
       "</div>"
      ],
      "text/plain": [
       "          author  created_utc        domain  \\\n",
       "21703    Binance   1500894604   twitter.com   \n",
       "21704  [deleted]   1500891655  self.binance   \n",
       "\n",
       "                                                selftext  \\\n",
       "21703  All the trading fee is free on Binance.com wit...   \n",
       "21704                                          [deleted]   \n",
       "\n",
       "                                                   title  \\\n",
       "21703                                        1.50091e+09   \n",
       "21704  The trading fee is free on binance.com within ...   \n",
       "\n",
       "                                                 created  \\\n",
       "21703  {'author': 'Binance', 'created_utc': 150089460...   \n",
       "21704                                        1.50091e+09   \n",
       "\n",
       "                                                      d_           easy_time  \\\n",
       "21703                                               None 2017-07-24 07:10:04   \n",
       "21704  {'author': '[deleted]', 'created_utc': 1500891... 2017-07-24 06:20:55   \n",
       "\n",
       "                                                all_text  \n",
       "21703  All the trading fee is free on Binance.com wit...  \n",
       "21704  [deleted]The trading fee is free on binance.co...  "
      ]
     },
     "execution_count": 12,
     "metadata": {},
     "output_type": "execute_result"
    }
   ],
   "source": [
    "og_df.tail(2)"
   ]
  },
  {
   "cell_type": "code",
   "execution_count": 14,
   "metadata": {},
   "outputs": [],
   "source": [
    "df = og_df[['all_text', 'easy_time']]"
   ]
  },
  {
   "cell_type": "code",
   "execution_count": 15,
   "metadata": {},
   "outputs": [
    {
     "data": {
      "text/plain": [
       "(21705, 2)"
      ]
     },
     "execution_count": 15,
     "metadata": {},
     "output_type": "execute_result"
    }
   ],
   "source": [
    "df.shape"
   ]
  },
  {
   "cell_type": "code",
   "execution_count": 16,
   "metadata": {},
   "outputs": [
    {
     "data": {
      "text/plain": [
       "'Is there any App for iPad iOS ?Is there any App for iPad iOS ?'"
      ]
     },
     "execution_count": 16,
     "metadata": {},
     "output_type": "execute_result"
    }
   ],
   "source": [
    "df.all_text[4]"
   ]
  },
  {
   "cell_type": "markdown",
   "metadata": {},
   "source": [
    "# Saving to a CSV\n",
    ">For now, I'm just going to save the May titles and dates to a csv. I will be reading this into my next notebook: sentiment_analysis_testing. "
   ]
  },
  {
   "cell_type": "code",
   "execution_count": 18,
   "metadata": {},
   "outputs": [],
   "source": [
    "df.to_csv('/Users/zoenawar/DSI/RNN_LSTM_Cryptocurrency_Project/datasets/rbinancescrape.csv')"
   ]
  }
 ],
 "metadata": {
  "kernelspec": {
   "display_name": "Python 3",
   "language": "python",
   "name": "python3"
  },
  "language_info": {
   "codemirror_mode": {
    "name": "ipython",
    "version": 3
   },
   "file_extension": ".py",
   "mimetype": "text/x-python",
   "name": "python",
   "nbconvert_exporter": "python",
   "pygments_lexer": "ipython3",
   "version": "3.7.1"
  }
 },
 "nbformat": 4,
 "nbformat_minor": 2
}
